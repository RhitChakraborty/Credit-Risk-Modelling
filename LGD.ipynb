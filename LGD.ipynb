{
 "cells": [
  {
   "cell_type": "code",
   "execution_count": 1,
   "metadata": {},
   "outputs": [],
   "source": [
    "import numpy as np\n",
    "import pandas as pd"
   ]
  },
  {
   "cell_type": "code",
   "execution_count": 4,
   "metadata": {},
   "outputs": [
    {
     "name": "stderr",
     "output_type": "stream",
     "text": [
      "c:\\users\\rhitc\\appdata\\local\\programs\\python\\python37\\lib\\site-packages\\IPython\\core\\interactiveshell.py:3063: DtypeWarning: Columns (21,49) have mixed types.Specify dtype option on import or set low_memory=False.\n",
      "  interactivity=interactivity, compiler=compiler, result=result)\n"
     ]
    }
   ],
   "source": [
    "loan_data_preprocessed_backup=pd.read_csv('loan_preprocessed.csv')"
   ]
  },
  {
   "cell_type": "code",
   "execution_count": 5,
   "metadata": {},
   "outputs": [],
   "source": [
    "loan_data_preprocessed=loan_data_preprocessed_backup.copy()"
   ]
  },
  {
   "cell_type": "code",
   "execution_count": 8,
   "metadata": {},
   "outputs": [
    {
     "data": {
      "text/plain": [
       "array(['Fully Paid', 'Charged Off', 'Current', 'Default',\n",
       "       'Late (31-120 days)', 'In Grace Period', 'Late (16-30 days)',\n",
       "       'Does not meet the credit policy. Status:Fully Paid',\n",
       "       'Does not meet the credit policy. Status:Charged Off'],\n",
       "      dtype=object)"
      ]
     },
     "execution_count": 8,
     "metadata": {},
     "output_type": "execute_result"
    }
   ],
   "source": [
    "loan_data_preprocessed['loan_status'].unique()"
   ]
  },
  {
   "cell_type": "code",
   "execution_count": 84,
   "metadata": {},
   "outputs": [],
   "source": [
    "del loan_data_default\n",
    "loan_data_default=loan_data_preprocessed[loan_data_preprocessed['loan_status'].isin(['Charged Off','Does not meet the credit policy. Status:Charged Off'])]"
   ]
  },
  {
   "cell_type": "code",
   "execution_count": 85,
   "metadata": {},
   "outputs": [
    {
     "data": {
      "text/plain": [
       "(43236, 208)"
      ]
     },
     "execution_count": 85,
     "metadata": {},
     "output_type": "execute_result"
    }
   ],
   "source": [
    "loan_data_default.shape"
   ]
  },
  {
   "cell_type": "code",
   "execution_count": 58,
   "metadata": {},
   "outputs": [],
   "source": [
    "pd.options.display.max_rows=None"
   ]
  },
  {
   "cell_type": "code",
   "execution_count": 59,
   "metadata": {},
   "outputs": [
    {
     "data": {
      "text/plain": [
       "Unnamed: 0                                                             0\n",
       "Unnamed: 0.1                                                           0\n",
       "id                                                                     0\n",
       "member_id                                                              0\n",
       "loan_amnt                                                              0\n",
       "funded_amnt                                                            0\n",
       "funded_amnt_inv                                                        0\n",
       "term                                                                   0\n",
       "int_rate                                                               0\n",
       "installment                                                            0\n",
       "grade                                                                  0\n",
       "sub_grade                                                              0\n",
       "emp_title                                                           3287\n",
       "emp_length                                                          2337\n",
       "home_ownership                                                         0\n",
       "annual_inc                                                             0\n",
       "verification_status                                                    0\n",
       "issue_d                                                                0\n",
       "loan_status                                                            0\n",
       "pymnt_plan                                                             0\n",
       "url                                                                    0\n",
       "desc                                                               27396\n",
       "purpose                                                                0\n",
       "title                                                                  3\n",
       "zip_code                                                               0\n",
       "addr_state                                                             0\n",
       "dti                                                                    0\n",
       "delinq_2yrs                                                            0\n",
       "earliest_cr_line                                                       3\n",
       "inq_last_6mths                                                         0\n",
       "mths_since_last_delinq                                             23950\n",
       "mths_since_last_record                                             37821\n",
       "open_acc                                                               0\n",
       "pub_rec                                                                0\n",
       "revol_bal                                                              0\n",
       "revol_util                                                            53\n",
       "total_acc                                                              0\n",
       "initial_list_status                                                    0\n",
       "out_prncp                                                              0\n",
       "out_prncp_inv                                                          0\n",
       "total_pymnt                                                            0\n",
       "total_pymnt_inv                                                        0\n",
       "total_rec_prncp                                                        0\n",
       "total_rec_int                                                          0\n",
       "total_rec_late_fee                                                     0\n",
       "recoveries                                                             0\n",
       "collection_recovery_fee                                                0\n",
       "last_pymnt_d                                                         376\n",
       "last_pymnt_amnt                                                        0\n",
       "next_pymnt_d                                                       42475\n",
       "last_credit_pull_d                                                     6\n",
       "collections_12_mths_ex_med                                            28\n",
       "mths_since_last_major_derog                                        35283\n",
       "policy_code                                                            0\n",
       "application_type                                                       0\n",
       "annual_inc_joint                                                   43236\n",
       "dti_joint                                                          43236\n",
       "verification_status_joint                                          43236\n",
       "acc_now_delinq                                                         0\n",
       "tot_coll_amt                                                       10780\n",
       "tot_cur_bal                                                        10780\n",
       "open_acc_6m                                                        43236\n",
       "open_il_6m                                                         43236\n",
       "open_il_12m                                                        43236\n",
       "open_il_24m                                                        43236\n",
       "mths_since_rcnt_il                                                 43236\n",
       "total_bal_il                                                       43236\n",
       "il_util                                                            43236\n",
       "open_rv_12m                                                        43236\n",
       "open_rv_24m                                                        43236\n",
       "max_bal_bc                                                         43236\n",
       "all_util                                                           43236\n",
       "total_rev_hi_lim                                                       0\n",
       "inq_fi                                                             43236\n",
       "total_cu_tl                                                        43236\n",
       "inq_last_12m                                                       43236\n",
       "emp_length_int                                                         0\n",
       "term_int                                                               0\n",
       "earliest_cr_line_date                                                  3\n",
       "months_since_credit_Cr_line                                            0\n",
       "issue_date                                                             0\n",
       "months_issue_date                                                      0\n",
       "grade:A                                                                0\n",
       "grade:B                                                                0\n",
       "grade:C                                                                0\n",
       "grade:D                                                                0\n",
       "grade:E                                                                0\n",
       "grade:F                                                                0\n",
       "grade:G                                                                0\n",
       "sub_grade:A1                                                           0\n",
       "sub_grade:A2                                                           0\n",
       "sub_grade:A3                                                           0\n",
       "sub_grade:A4                                                           0\n",
       "sub_grade:A5                                                           0\n",
       "sub_grade:B1                                                           0\n",
       "sub_grade:B2                                                           0\n",
       "sub_grade:B3                                                           0\n",
       "sub_grade:B4                                                           0\n",
       "sub_grade:B5                                                           0\n",
       "sub_grade:C1                                                           0\n",
       "sub_grade:C2                                                           0\n",
       "sub_grade:C3                                                           0\n",
       "sub_grade:C4                                                           0\n",
       "sub_grade:C5                                                           0\n",
       "sub_grade:D1                                                           0\n",
       "sub_grade:D2                                                           0\n",
       "sub_grade:D3                                                           0\n",
       "sub_grade:D4                                                           0\n",
       "sub_grade:D5                                                           0\n",
       "sub_grade:E1                                                           0\n",
       "sub_grade:E2                                                           0\n",
       "sub_grade:E3                                                           0\n",
       "sub_grade:E4                                                           0\n",
       "sub_grade:E5                                                           0\n",
       "sub_grade:F1                                                           0\n",
       "sub_grade:F2                                                           0\n",
       "sub_grade:F3                                                           0\n",
       "sub_grade:F4                                                           0\n",
       "sub_grade:F5                                                           0\n",
       "sub_grade:G1                                                           0\n",
       "sub_grade:G2                                                           0\n",
       "sub_grade:G3                                                           0\n",
       "sub_grade:G4                                                           0\n",
       "sub_grade:G5                                                           0\n",
       "home_ownership:ANY                                                     0\n",
       "home_ownership:MORTGAGE                                                0\n",
       "home_ownership:NONE                                                    0\n",
       "home_ownership:OTHER                                                   0\n",
       "home_ownership:OWN                                                     0\n",
       "home_ownership:RENT                                                    0\n",
       "verification_status:Not Verified                                       0\n",
       "verification_status:Source Verified                                    0\n",
       "verification_status:Verified                                           0\n",
       "loan_status:Charged Off                                                0\n",
       "loan_status:Current                                                    0\n",
       "loan_status:Default                                                    0\n",
       "loan_status:Does not meet the credit policy. Status:Charged Off        0\n",
       "loan_status:Does not meet the credit policy. Status:Fully Paid         0\n",
       "loan_status:Fully Paid                                                 0\n",
       "loan_status:In Grace Period                                            0\n",
       "loan_status:Late (16-30 days)                                          0\n",
       "loan_status:Late (31-120 days)                                         0\n",
       "purpose:car                                                            0\n",
       "purpose:credit_card                                                    0\n",
       "purpose:debt_consolidation                                             0\n",
       "purpose:educational                                                    0\n",
       "purpose:home_improvement                                               0\n",
       "purpose:house                                                          0\n",
       "purpose:major_purchase                                                 0\n",
       "purpose:medical                                                        0\n",
       "purpose:moving                                                         0\n",
       "purpose:other                                                          0\n",
       "purpose:renewable_energy                                               0\n",
       "purpose:small_business                                                 0\n",
       "purpose:vacation                                                       0\n",
       "purpose:wedding                                                        0\n",
       "addr_state:AK                                                          0\n",
       "addr_state:AL                                                          0\n",
       "addr_state:AR                                                          0\n",
       "addr_state:AZ                                                          0\n",
       "addr_state:CA                                                          0\n",
       "addr_state:CO                                                          0\n",
       "addr_state:CT                                                          0\n",
       "addr_state:DC                                                          0\n",
       "addr_state:DE                                                          0\n",
       "addr_state:FL                                                          0\n",
       "addr_state:GA                                                          0\n",
       "addr_state:HI                                                          0\n",
       "addr_state:IA                                                          0\n",
       "addr_state:ID                                                          0\n",
       "addr_state:IL                                                          0\n",
       "addr_state:IN                                                          0\n",
       "addr_state:KS                                                          0\n",
       "addr_state:KY                                                          0\n",
       "addr_state:LA                                                          0\n",
       "addr_state:MA                                                          0\n",
       "addr_state:MD                                                          0\n",
       "addr_state:ME                                                          0\n",
       "addr_state:MI                                                          0\n",
       "addr_state:MN                                                          0\n",
       "addr_state:MO                                                          0\n",
       "addr_state:MS                                                          0\n",
       "addr_state:MT                                                          0\n",
       "addr_state:NC                                                          0\n",
       "addr_state:NE                                                          0\n",
       "addr_state:NH                                                          0\n",
       "addr_state:NJ                                                          0\n",
       "addr_state:NM                                                          0\n",
       "addr_state:NV                                                          0\n",
       "addr_state:NY                                                          0\n",
       "addr_state:OH                                                          0\n",
       "addr_state:OK                                                          0\n",
       "addr_state:OR                                                          0\n",
       "addr_state:PA                                                          0\n",
       "addr_state:RI                                                          0\n",
       "addr_state:SC                                                          0\n",
       "addr_state:SD                                                          0\n",
       "addr_state:TN                                                          0\n",
       "addr_state:TX                                                          0\n",
       "addr_state:UT                                                          0\n",
       "addr_state:VA                                                          0\n",
       "addr_state:VT                                                          0\n",
       "addr_state:WA                                                          0\n",
       "addr_state:WI                                                          0\n",
       "addr_state:WV                                                          0\n",
       "addr_state:WY                                                          0\n",
       "initial_list_status:f                                                  0\n",
       "initial_list_status:w                                                  0\n",
       "dtype: int64"
      ]
     },
     "execution_count": 59,
     "metadata": {},
     "output_type": "execute_result"
    }
   ],
   "source": [
    "loan_data_default.isnull().sum()"
   ]
  },
  {
   "cell_type": "markdown",
   "metadata": {},
   "source": [
    "# Independent Variables\n",
    "No need for fine classing and coarse classing as we dot't need to comprehend LGD model much"
   ]
  },
  {
   "cell_type": "code",
   "execution_count": 86,
   "metadata": {},
   "outputs": [
    {
     "name": "stderr",
     "output_type": "stream",
     "text": [
      "c:\\users\\rhitc\\appdata\\local\\programs\\python\\python37\\lib\\site-packages\\pandas\\core\\generic.py:6245: SettingWithCopyWarning: \n",
      "A value is trying to be set on a copy of a slice from a DataFrame\n",
      "\n",
      "See the caveats in the documentation: https://pandas.pydata.org/pandas-docs/stable/user_guide/indexing.html#returning-a-view-versus-a-copy\n",
      "  self._update_inplace(new_data)\n"
     ]
    }
   ],
   "source": [
    "loan_data_default['mths_since_last_delinq'].fillna(0,inplace=True)\n",
    "loan_data_default['mths_since_last_record'].fillna(0,inplace=True)"
   ]
  },
  {
   "cell_type": "markdown",
   "metadata": {},
   "source": [
    "# Dependent Model"
   ]
  },
  {
   "cell_type": "code",
   "execution_count": 87,
   "metadata": {},
   "outputs": [
    {
     "data": {
      "text/plain": [
       "1     117.08\n",
       "8     189.06\n",
       "9     269.29\n",
       "12    444.30\n",
       "14    645.10\n",
       "Name: recoveries, dtype: float64"
      ]
     },
     "execution_count": 87,
     "metadata": {},
     "output_type": "execute_result"
    }
   ],
   "source": [
    "loan_data_default['recoveries'].head()"
   ]
  },
  {
   "cell_type": "code",
   "execution_count": 88,
   "metadata": {},
   "outputs": [
    {
     "name": "stderr",
     "output_type": "stream",
     "text": [
      "c:\\users\\rhitc\\appdata\\local\\programs\\python\\python37\\lib\\site-packages\\ipykernel_launcher.py:1: SettingWithCopyWarning: \n",
      "A value is trying to be set on a copy of a slice from a DataFrame.\n",
      "Try using .loc[row_indexer,col_indexer] = value instead\n",
      "\n",
      "See the caveats in the documentation: https://pandas.pydata.org/pandas-docs/stable/user_guide/indexing.html#returning-a-view-versus-a-copy\n",
      "  \"\"\"Entry point for launching an IPython kernel.\n"
     ]
    }
   ],
   "source": [
    "loan_data_default['recovery_rate']=loan_data_default['recoveries']/loan_data_default['funded_amnt']"
   ]
  },
  {
   "cell_type": "code",
   "execution_count": 89,
   "metadata": {},
   "outputs": [
    {
     "data": {
      "text/plain": [
       "count    43236.000000\n",
       "mean         0.060820\n",
       "std          0.089770\n",
       "min          0.000000\n",
       "25%          0.000000\n",
       "50%          0.029466\n",
       "75%          0.114044\n",
       "max          1.220774\n",
       "Name: recovery_rate, dtype: float64"
      ]
     },
     "execution_count": 89,
     "metadata": {},
     "output_type": "execute_result"
    }
   ],
   "source": [
    "loan_data_default['recovery_rate'].describe()"
   ]
  },
  {
   "cell_type": "markdown",
   "metadata": {},
   "source": [
    "Recovery rate should be between 0- 1 but here we can see its greater than 1. (may be due to error in data). Hence, data for recovery rate >1 is made =1"
   ]
  },
  {
   "cell_type": "code",
   "execution_count": 90,
   "metadata": {},
   "outputs": [
    {
     "name": "stderr",
     "output_type": "stream",
     "text": [
      "c:\\users\\rhitc\\appdata\\local\\programs\\python\\python37\\lib\\site-packages\\ipykernel_launcher.py:1: SettingWithCopyWarning: \n",
      "A value is trying to be set on a copy of a slice from a DataFrame.\n",
      "Try using .loc[row_indexer,col_indexer] = value instead\n",
      "\n",
      "See the caveats in the documentation: https://pandas.pydata.org/pandas-docs/stable/user_guide/indexing.html#returning-a-view-versus-a-copy\n",
      "  \"\"\"Entry point for launching an IPython kernel.\n",
      "c:\\users\\rhitc\\appdata\\local\\programs\\python\\python37\\lib\\site-packages\\ipykernel_launcher.py:2: SettingWithCopyWarning: \n",
      "A value is trying to be set on a copy of a slice from a DataFrame.\n",
      "Try using .loc[row_indexer,col_indexer] = value instead\n",
      "\n",
      "See the caveats in the documentation: https://pandas.pydata.org/pandas-docs/stable/user_guide/indexing.html#returning-a-view-versus-a-copy\n",
      "  \n"
     ]
    }
   ],
   "source": [
    "loan_data_default['recovery_rate']=np.where(loan_data_default['recovery_rate']>1,1,loan_data_default['recovery_rate'])\n",
    "loan_data_default['recovery_rate']=np.where(loan_data_default['recovery_rate']<0,0,loan_data_default['recovery_rate'])"
   ]
  },
  {
   "cell_type": "code",
   "execution_count": 91,
   "metadata": {},
   "outputs": [
    {
     "data": {
      "text/plain": [
       "count    43236.000000\n",
       "mean         0.060770\n",
       "std          0.089202\n",
       "min          0.000000\n",
       "25%          0.000000\n",
       "50%          0.029466\n",
       "75%          0.114044\n",
       "max          1.000000\n",
       "Name: recovery_rate, dtype: float64"
      ]
     },
     "execution_count": 91,
     "metadata": {},
     "output_type": "execute_result"
    }
   ],
   "source": [
    "loan_data_default['recovery_rate'].describe()"
   ]
  },
  {
   "cell_type": "code",
   "execution_count": 92,
   "metadata": {},
   "outputs": [
    {
     "name": "stderr",
     "output_type": "stream",
     "text": [
      "c:\\users\\rhitc\\appdata\\local\\programs\\python\\python37\\lib\\site-packages\\ipykernel_launcher.py:2: SettingWithCopyWarning: \n",
      "A value is trying to be set on a copy of a slice from a DataFrame.\n",
      "Try using .loc[row_indexer,col_indexer] = value instead\n",
      "\n",
      "See the caveats in the documentation: https://pandas.pydata.org/pandas-docs/stable/user_guide/indexing.html#returning-a-view-versus-a-copy\n",
      "  \n"
     ]
    }
   ],
   "source": [
    "##CCF=Credit Conversion Factor= EAD/Total funded amount\n",
    "loan_data_default['CCF']=(loan_data_default['funded_amnt']-loan_data_default['total_rec_prncp'])/loan_data_default['funded_amnt']"
   ]
  },
  {
   "cell_type": "code",
   "execution_count": 93,
   "metadata": {},
   "outputs": [
    {
     "data": {
      "text/plain": [
       "count    43236.000000\n",
       "mean         0.735952\n",
       "std          0.200742\n",
       "min          0.000438\n",
       "25%          0.632088\n",
       "50%          0.789908\n",
       "75%          0.888543\n",
       "max          1.000000\n",
       "Name: CCF, dtype: float64"
      ]
     },
     "execution_count": 93,
     "metadata": {},
     "output_type": "execute_result"
    }
   ],
   "source": [
    "loan_data_default['CCF'].describe()"
   ]
  },
  {
   "cell_type": "markdown",
   "metadata": {},
   "source": [
    "# Explore Dependent Variable"
   ]
  },
  {
   "cell_type": "code",
   "execution_count": 30,
   "metadata": {},
   "outputs": [],
   "source": [
    "import matplotlib.pyplot as plt\n",
    "import seaborn as sns\n",
    "sns.set()"
   ]
  },
  {
   "cell_type": "code",
   "execution_count": 95,
   "metadata": {},
   "outputs": [
    {
     "data": {
      "text/plain": [
       "(array([2.1023e+04, 1.8370e+03, 3.8730e+03, 1.3940e+03, 2.1330e+03,\n",
       "        3.3440e+03, 4.7650e+03, 1.7130e+03, 1.1790e+03, 4.0600e+02,\n",
       "        3.4100e+02, 2.7400e+02, 1.1700e+02, 9.3000e+01, 8.1000e+01,\n",
       "        7.3000e+01, 5.4000e+01, 7.2000e+01, 5.7000e+01, 3.0000e+01,\n",
       "        4.7000e+01, 2.7000e+01, 1.7000e+01, 1.5000e+01, 2.0000e+01,\n",
       "        2.3000e+01, 1.7000e+01, 7.0000e+00, 1.1000e+01, 7.0000e+00,\n",
       "        8.0000e+00, 7.0000e+00, 7.0000e+00, 8.0000e+00, 7.0000e+00,\n",
       "        1.0000e+01, 6.0000e+00, 1.1000e+01, 9.0000e+00, 9.0000e+00,\n",
       "        6.0000e+00, 6.0000e+00, 6.0000e+00, 3.0000e+00, 9.0000e+00,\n",
       "        9.0000e+00, 1.5000e+01, 8.0000e+00, 9.0000e+00, 3.3000e+01]),\n",
       " array([0.  , 0.02, 0.04, 0.06, 0.08, 0.1 , 0.12, 0.14, 0.16, 0.18, 0.2 ,\n",
       "        0.22, 0.24, 0.26, 0.28, 0.3 , 0.32, 0.34, 0.36, 0.38, 0.4 , 0.42,\n",
       "        0.44, 0.46, 0.48, 0.5 , 0.52, 0.54, 0.56, 0.58, 0.6 , 0.62, 0.64,\n",
       "        0.66, 0.68, 0.7 , 0.72, 0.74, 0.76, 0.78, 0.8 , 0.82, 0.84, 0.86,\n",
       "        0.88, 0.9 , 0.92, 0.94, 0.96, 0.98, 1.  ]),\n",
       " <a list of 50 Patch objects>)"
      ]
     },
     "execution_count": 95,
     "metadata": {},
     "output_type": "execute_result"
    },
    {
     "data": {
      "image/png": "[encoded data removed]",
      "text/plain": [
       "<Figure size 432x288 with 1 Axes>"
      ]
     },
     "metadata": {},
     "output_type": "display_data"
    }
   ],
   "source": [
    "plt.hist(loan_data_default['recovery_rate'],bins=50)"
   ]
  },
  {
   "cell_type": "code",
   "execution_count": 96,
   "metadata": {},
   "outputs": [
    {
     "data": {
      "text/plain": [
       "(array([  20.,   60.,   29.,   97.,   70.,   84.,  150.,   78.,  124.,\n",
       "         170.,  152.,  208.,  199.,  228.,  242.,  276.,  300.,  335.,\n",
       "         339.,  376.,  412.,  421.,  505.,  505.,  575.,  583.,  614.,\n",
       "         735.,  756.,  812.,  840.,  942.,  959., 1137., 1217., 1418.,\n",
       "        1431., 1580., 1732., 1850., 2003., 2151., 2123., 2376., 2447.,\n",
       "        2693., 2366., 2115., 1527.,  874.]),\n",
       " array([4.3800000e-04, 2.0429240e-02, 4.0420480e-02, 6.0411720e-02,\n",
       "        8.0402960e-02, 1.0039420e-01, 1.2038544e-01, 1.4037668e-01,\n",
       "        1.6036792e-01, 1.8035916e-01, 2.0035040e-01, 2.2034164e-01,\n",
       "        2.4033288e-01, 2.6032412e-01, 2.8031536e-01, 3.0030660e-01,\n",
       "        3.2029784e-01, 3.4028908e-01, 3.6028032e-01, 3.8027156e-01,\n",
       "        4.0026280e-01, 4.2025404e-01, 4.4024528e-01, 4.6023652e-01,\n",
       "        4.8022776e-01, 5.0021900e-01, 5.2021024e-01, 5.4020148e-01,\n",
       "        5.6019272e-01, 5.8018396e-01, 6.0017520e-01, 6.2016644e-01,\n",
       "        6.4015768e-01, 6.6014892e-01, 6.8014016e-01, 7.0013140e-01,\n",
       "        7.2012264e-01, 7.4011388e-01, 7.6010512e-01, 7.8009636e-01,\n",
       "        8.0008760e-01, 8.2007884e-01, 8.4007008e-01, 8.6006132e-01,\n",
       "        8.8005256e-01, 9.0004380e-01, 9.2003504e-01, 9.4002628e-01,\n",
       "        9.6001752e-01, 9.8000876e-01, 1.0000000e+00]),\n",
       " <a list of 50 Patch objects>)"
      ]
     },
     "execution_count": 96,
     "metadata": {},
     "output_type": "execute_result"
    },
    {
     "data": {
      "image/png": "[encoded data removed]",
      "text/plain": [
       "<Figure size 432x288 with 1 Axes>"
      ]
     },
     "metadata": {},
     "output_type": "display_data"
    }
   ],
   "source": [
    "plt.hist(loan_data_default['CCF'],bins=50)"
   ]
  },
  {
   "cell_type": "code",
   "execution_count": 97,
   "metadata": {
    "scrolled": true
   },
   "outputs": [
    {
     "name": "stderr",
     "output_type": "stream",
     "text": [
      "c:\\users\\rhitc\\appdata\\local\\programs\\python\\python37\\lib\\site-packages\\ipykernel_launcher.py:1: SettingWithCopyWarning: \n",
      "A value is trying to be set on a copy of a slice from a DataFrame.\n",
      "Try using .loc[row_indexer,col_indexer] = value instead\n",
      "\n",
      "See the caveats in the documentation: https://pandas.pydata.org/pandas-docs/stable/user_guide/indexing.html#returning-a-view-versus-a-copy\n",
      "  \"\"\"Entry point for launching an IPython kernel.\n"
     ]
    }
   ],
   "source": [
    "loan_data_default['recovery_Rate_0_1']=np.where(loan_data_default['recoveries']==0,0,1)"
   ]
  },
  {
   "cell_type": "code",
   "execution_count": 319,
   "metadata": {},
   "outputs": [],
   "source": [
    "loan_data_default.to_csv('loan_data_default') # for using the data in EAD calculation"
   ]
  },
  {
   "cell_type": "markdown",
   "metadata": {},
   "source": [
    "# LGD modelling\n",
    "## Beta regression is not stable in pyhton.. so for LGD, Logistic and Linear regression is used here"
   ]
  },
  {
   "cell_type": "markdown",
   "metadata": {},
   "source": [
    "# Stage 1- Logistic Regression"
   ]
  },
  {
   "cell_type": "markdown",
   "metadata": {},
   "source": [
    "## Splitting Data"
   ]
  },
  {
   "cell_type": "code",
   "execution_count": 36,
   "metadata": {},
   "outputs": [],
   "source": [
    "from sklearn.model_selection import train_test_split"
   ]
  },
  {
   "cell_type": "code",
   "execution_count": 210,
   "metadata": {},
   "outputs": [],
   "source": [
    "lgd_input_1_train,lgd_input_1_test,lgd_target_1_train,lgd_target_1_test=train_test_split(loan_data_default.drop(['recoveries','recovery_Rate_0_1','CCF'],axis=1),loan_data_default['recovery_Rate_0_1'],test_size=0.2,random_state=42)"
   ]
  },
  {
   "cell_type": "code",
   "execution_count": 123,
   "metadata": {},
   "outputs": [],
   "source": [
    "features_all=['grade:A',\n",
    "'grade:B',\n",
    "'grade:C',\n",
    "'grade:D',\n",
    "'grade:E',\n",
    "'grade:F',\n",
    "'grade:G',\n",
    "'verification_status:Not Verified',\n",
    "'verification_status:Source Verified',\n",
    "'verification_status:Verified',\n",
    "'home_ownership:MORTGAGE',\n",
    "'home_ownership:ANY',\n",
    "'home_ownership:OTHER',\n",
    "'home_ownership:NONE',\n",
    "'home_ownership:RENT',\n",
    "'home_ownership:OWN',\n",
    "'purpose:debt_consolidation',\n",
    "'purpose:credit_card',\n",
    "'purpose:car', \n",
    "'purpose:home_improvement', \n",
    "'purpose:moving',\n",
    "'purpose:educational', \n",
    "'purpose:medical',\n",
    "'purpose:major_purchase',\n",
    "'purpose:renewable_energy',\n",
    "'purpose:other',\n",
    "'purpose:wedding',\n",
    "'purpose:vacation',\n",
    "'purpose:small_business',\n",
    "'initial_list_status:f',\n",
    "'initial_list_status:w',\n",
    "'emp_length_int',\n",
    "'term_int',\n",
    "'months_since_credit_Cr_line',\n",
    "'months_issue_date',\n",
    "'funded_amnt',\n",
    "'int_rate',\n",
    "'installment',\n",
    "'annual_inc',\n",
    "'dti',\n",
    "'delinq_2yrs',\n",
    "'inq_last_6mths',\n",
    "'mths_since_last_record',\n",
    "'mths_since_last_delinq',\n",
    "'open_acc',\n",
    "'pub_rec',\n",
    "'total_acc',\n",
    "'total_rev_hi_lim',\n",
    "'acc_now_delinq'\n",
    "]"
   ]
  },
  {
   "cell_type": "code",
   "execution_count": 124,
   "metadata": {},
   "outputs": [],
   "source": [
    "features_ref_cat=['grade:G',\n",
    "'verification_status:Verified',\n",
    "'home_ownership:RENT',\n",
    "'purpose:credit_card',\n",
    "'initial_list_status:f'\n",
    "]"
   ]
  },
  {
   "cell_type": "code",
   "execution_count": 125,
   "metadata": {},
   "outputs": [],
   "source": [
    "lgd_input_1_train=lgd_input_1_train[features_all]"
   ]
  },
  {
   "cell_type": "code",
   "execution_count": 126,
   "metadata": {},
   "outputs": [],
   "source": [
    "lgd_input_1_train=lgd_input_1_train.drop(features_ref_cat,axis=1)"
   ]
  },
  {
   "cell_type": "code",
   "execution_count": 129,
   "metadata": {},
   "outputs": [
    {
     "data": {
      "text/plain": [
       "(34588, 44)"
      ]
     },
     "execution_count": 129,
     "metadata": {},
     "output_type": "execute_result"
    }
   ],
   "source": [
    "lgd_input_1_train.shape"
   ]
  },
  {
   "cell_type": "code",
   "execution_count": 80,
   "metadata": {},
   "outputs": [],
   "source": [
    "from sklearn.linear_model import LogisticRegression"
   ]
  },
  {
   "cell_type": "code",
   "execution_count": 130,
   "metadata": {},
   "outputs": [],
   "source": [
    "reg_stage_1=LogisticRegression()"
   ]
  },
  {
   "cell_type": "code",
   "execution_count": 131,
   "metadata": {},
   "outputs": [
    {
     "name": "stderr",
     "output_type": "stream",
     "text": [
      "c:\\users\\rhitc\\appdata\\local\\programs\\python\\python37\\lib\\site-packages\\sklearn\\linear_model\\_logistic.py:764: ConvergenceWarning: lbfgs failed to converge (status=1):\n",
      "STOP: TOTAL NO. of ITERATIONS REACHED LIMIT.\n",
      "\n",
      "Increase the number of iterations (max_iter) or scale the data as shown in:\n",
      "    https://scikit-learn.org/stable/modules/preprocessing.html\n",
      "Please also refer to the documentation for alternative solver options:\n",
      "    https://scikit-learn.org/stable/modules/linear_model.html#logistic-regression\n",
      "  extra_warning_msg=_LOGISTIC_SOLVER_CONVERGENCE_MSG)\n"
     ]
    },
    {
     "data": {
      "text/plain": [
       "LogisticRegression()"
      ]
     },
     "execution_count": 131,
     "metadata": {},
     "output_type": "execute_result"
    }
   ],
   "source": [
    "reg_stage_1.fit(lgd_input_1_train,lgd_target_1_train)"
   ]
  },
  {
   "cell_type": "markdown",
   "metadata": {},
   "source": [
    "## Creating a Summary Table"
   ]
  },
  {
   "cell_type": "code",
   "execution_count": 132,
   "metadata": {},
   "outputs": [],
   "source": [
    "feature_name=lgd_input_1_train.columns.values"
   ]
  },
  {
   "cell_type": "code",
   "execution_count": 137,
   "metadata": {},
   "outputs": [
    {
     "data": {
      "text/html": [
       "<div>\n",
       "<style scoped>\n",
       "    .dataframe tbody tr th:only-of-type {\n",
       "        vertical-align: middle;\n",
       "    }\n",
       "\n",
       "    .dataframe tbody tr th {\n",
       "        vertical-align: top;\n",
       "    }\n",
       "\n",
       "    .dataframe thead th {\n",
       "        text-align: right;\n",
       "    }\n",
       "</style>\n",
       "<table border=\"1\" class=\"dataframe\">\n",
       "  <thead>\n",
       "    <tr style=\"text-align: right;\">\n",
       "      <th></th>\n",
       "      <th>Feature name</th>\n",
       "      <th>Coefficients</th>\n",
       "    </tr>\n",
       "  </thead>\n",
       "  <tbody>\n",
       "    <tr>\n",
       "      <th>1</th>\n",
       "      <td>grade:A</td>\n",
       "      <td>-2.168306e-06</td>\n",
       "    </tr>\n",
       "    <tr>\n",
       "      <th>2</th>\n",
       "      <td>grade:B</td>\n",
       "      <td>-3.756395e-05</td>\n",
       "    </tr>\n",
       "    <tr>\n",
       "      <th>3</th>\n",
       "      <td>grade:C</td>\n",
       "      <td>-9.323334e-05</td>\n",
       "    </tr>\n",
       "    <tr>\n",
       "      <th>4</th>\n",
       "      <td>grade:D</td>\n",
       "      <td>2.727171e-05</td>\n",
       "    </tr>\n",
       "    <tr>\n",
       "      <th>5</th>\n",
       "      <td>grade:E</td>\n",
       "      <td>1.563110e-05</td>\n",
       "    </tr>\n",
       "    <tr>\n",
       "      <th>6</th>\n",
       "      <td>grade:F</td>\n",
       "      <td>6.192686e-05</td>\n",
       "    </tr>\n",
       "    <tr>\n",
       "      <th>7</th>\n",
       "      <td>verification_status:Not Verified</td>\n",
       "      <td>-6.883330e-06</td>\n",
       "    </tr>\n",
       "    <tr>\n",
       "      <th>8</th>\n",
       "      <td>verification_status:Source Verified</td>\n",
       "      <td>-1.388214e-04</td>\n",
       "    </tr>\n",
       "    <tr>\n",
       "      <th>9</th>\n",
       "      <td>home_ownership:MORTGAGE</td>\n",
       "      <td>-2.875338e-05</td>\n",
       "    </tr>\n",
       "    <tr>\n",
       "      <th>10</th>\n",
       "      <td>home_ownership:ANY</td>\n",
       "      <td>0.000000e+00</td>\n",
       "    </tr>\n",
       "    <tr>\n",
       "      <th>11</th>\n",
       "      <td>home_ownership:OTHER</td>\n",
       "      <td>9.397729e-07</td>\n",
       "    </tr>\n",
       "    <tr>\n",
       "      <th>12</th>\n",
       "      <td>home_ownership:NONE</td>\n",
       "      <td>7.566444e-07</td>\n",
       "    </tr>\n",
       "    <tr>\n",
       "      <th>13</th>\n",
       "      <td>home_ownership:OWN</td>\n",
       "      <td>2.911905e-07</td>\n",
       "    </tr>\n",
       "    <tr>\n",
       "      <th>14</th>\n",
       "      <td>purpose:debt_consolidation</td>\n",
       "      <td>-1.057147e-04</td>\n",
       "    </tr>\n",
       "    <tr>\n",
       "      <th>15</th>\n",
       "      <td>purpose:car</td>\n",
       "      <td>1.276184e-05</td>\n",
       "    </tr>\n",
       "    <tr>\n",
       "      <th>16</th>\n",
       "      <td>purpose:home_improvement</td>\n",
       "      <td>9.677562e-06</td>\n",
       "    </tr>\n",
       "    <tr>\n",
       "      <th>17</th>\n",
       "      <td>purpose:moving</td>\n",
       "      <td>4.351304e-06</td>\n",
       "    </tr>\n",
       "    <tr>\n",
       "      <th>18</th>\n",
       "      <td>purpose:educational</td>\n",
       "      <td>2.345773e-06</td>\n",
       "    </tr>\n",
       "    <tr>\n",
       "      <th>19</th>\n",
       "      <td>purpose:medical</td>\n",
       "      <td>2.633380e-06</td>\n",
       "    </tr>\n",
       "    <tr>\n",
       "      <th>20</th>\n",
       "      <td>purpose:major_purchase</td>\n",
       "      <td>1.910076e-05</td>\n",
       "    </tr>\n",
       "    <tr>\n",
       "      <th>21</th>\n",
       "      <td>purpose:renewable_energy</td>\n",
       "      <td>2.795429e-06</td>\n",
       "    </tr>\n",
       "    <tr>\n",
       "      <th>22</th>\n",
       "      <td>purpose:other</td>\n",
       "      <td>4.326590e-05</td>\n",
       "    </tr>\n",
       "    <tr>\n",
       "      <th>23</th>\n",
       "      <td>purpose:wedding</td>\n",
       "      <td>1.086454e-05</td>\n",
       "    </tr>\n",
       "    <tr>\n",
       "      <th>24</th>\n",
       "      <td>purpose:vacation</td>\n",
       "      <td>4.622831e-06</td>\n",
       "    </tr>\n",
       "    <tr>\n",
       "      <th>25</th>\n",
       "      <td>purpose:small_business</td>\n",
       "      <td>4.645031e-05</td>\n",
       "    </tr>\n",
       "    <tr>\n",
       "      <th>26</th>\n",
       "      <td>initial_list_status:w</td>\n",
       "      <td>-6.464062e-04</td>\n",
       "    </tr>\n",
       "    <tr>\n",
       "      <th>27</th>\n",
       "      <td>emp_length_int</td>\n",
       "      <td>-1.345089e-04</td>\n",
       "    </tr>\n",
       "    <tr>\n",
       "      <th>28</th>\n",
       "      <td>term_int</td>\n",
       "      <td>7.178689e-04</td>\n",
       "    </tr>\n",
       "    <tr>\n",
       "      <th>29</th>\n",
       "      <td>months_since_credit_Cr_line</td>\n",
       "      <td>-2.826599e-03</td>\n",
       "    </tr>\n",
       "    <tr>\n",
       "      <th>30</th>\n",
       "      <td>months_issue_date</td>\n",
       "      <td>1.907351e-02</td>\n",
       "    </tr>\n",
       "    <tr>\n",
       "      <th>31</th>\n",
       "      <td>funded_amnt</td>\n",
       "      <td>2.054267e-05</td>\n",
       "    </tr>\n",
       "    <tr>\n",
       "      <th>32</th>\n",
       "      <td>int_rate</td>\n",
       "      <td>9.870829e-04</td>\n",
       "    </tr>\n",
       "    <tr>\n",
       "      <th>33</th>\n",
       "      <td>installment</td>\n",
       "      <td>-4.754370e-04</td>\n",
       "    </tr>\n",
       "    <tr>\n",
       "      <th>34</th>\n",
       "      <td>annual_inc</td>\n",
       "      <td>1.378352e-06</td>\n",
       "    </tr>\n",
       "    <tr>\n",
       "      <th>35</th>\n",
       "      <td>dti</td>\n",
       "      <td>-3.707101e-03</td>\n",
       "    </tr>\n",
       "    <tr>\n",
       "      <th>36</th>\n",
       "      <td>delinq_2yrs</td>\n",
       "      <td>-6.422527e-05</td>\n",
       "    </tr>\n",
       "    <tr>\n",
       "      <th>37</th>\n",
       "      <td>inq_last_6mths</td>\n",
       "      <td>2.345309e-04</td>\n",
       "    </tr>\n",
       "    <tr>\n",
       "      <th>38</th>\n",
       "      <td>mths_since_last_record</td>\n",
       "      <td>-6.336628e-03</td>\n",
       "    </tr>\n",
       "    <tr>\n",
       "      <th>39</th>\n",
       "      <td>mths_since_last_delinq</td>\n",
       "      <td>-7.989160e-04</td>\n",
       "    </tr>\n",
       "    <tr>\n",
       "      <th>40</th>\n",
       "      <td>open_acc</td>\n",
       "      <td>-1.442517e-03</td>\n",
       "    </tr>\n",
       "    <tr>\n",
       "      <th>41</th>\n",
       "      <td>pub_rec</td>\n",
       "      <td>-1.047835e-04</td>\n",
       "    </tr>\n",
       "    <tr>\n",
       "      <th>42</th>\n",
       "      <td>total_acc</td>\n",
       "      <td>-4.167005e-03</td>\n",
       "    </tr>\n",
       "    <tr>\n",
       "      <th>43</th>\n",
       "      <td>total_rev_hi_lim</td>\n",
       "      <td>-3.658722e-06</td>\n",
       "    </tr>\n",
       "    <tr>\n",
       "      <th>44</th>\n",
       "      <td>acc_now_delinq</td>\n",
       "      <td>2.114742e-06</td>\n",
       "    </tr>\n",
       "    <tr>\n",
       "      <th>0</th>\n",
       "      <td>Intercept</td>\n",
       "      <td>-1.796324e-05</td>\n",
       "    </tr>\n",
       "  </tbody>\n",
       "</table>\n",
       "</div>"
      ],
      "text/plain": [
       "                           Feature name  Coefficients\n",
       "1                               grade:A -2.168306e-06\n",
       "2                               grade:B -3.756395e-05\n",
       "3                               grade:C -9.323334e-05\n",
       "4                               grade:D  2.727171e-05\n",
       "5                               grade:E  1.563110e-05\n",
       "6                               grade:F  6.192686e-05\n",
       "7      verification_status:Not Verified -6.883330e-06\n",
       "8   verification_status:Source Verified -1.388214e-04\n",
       "9               home_ownership:MORTGAGE -2.875338e-05\n",
       "10                   home_ownership:ANY  0.000000e+00\n",
       "11                 home_ownership:OTHER  9.397729e-07\n",
       "12                  home_ownership:NONE  7.566444e-07\n",
       "13                   home_ownership:OWN  2.911905e-07\n",
       "14           purpose:debt_consolidation -1.057147e-04\n",
       "15                          purpose:car  1.276184e-05\n",
       "16             purpose:home_improvement  9.677562e-06\n",
       "17                       purpose:moving  4.351304e-06\n",
       "18                  purpose:educational  2.345773e-06\n",
       "19                      purpose:medical  2.633380e-06\n",
       "20               purpose:major_purchase  1.910076e-05\n",
       "21             purpose:renewable_energy  2.795429e-06\n",
       "22                        purpose:other  4.326590e-05\n",
       "23                      purpose:wedding  1.086454e-05\n",
       "24                     purpose:vacation  4.622831e-06\n",
       "25               purpose:small_business  4.645031e-05\n",
       "26                initial_list_status:w -6.464062e-04\n",
       "27                       emp_length_int -1.345089e-04\n",
       "28                             term_int  7.178689e-04\n",
       "29          months_since_credit_Cr_line -2.826599e-03\n",
       "30                    months_issue_date  1.907351e-02\n",
       "31                          funded_amnt  2.054267e-05\n",
       "32                             int_rate  9.870829e-04\n",
       "33                          installment -4.754370e-04\n",
       "34                           annual_inc  1.378352e-06\n",
       "35                                  dti -3.707101e-03\n",
       "36                          delinq_2yrs -6.422527e-05\n",
       "37                       inq_last_6mths  2.345309e-04\n",
       "38               mths_since_last_record -6.336628e-03\n",
       "39               mths_since_last_delinq -7.989160e-04\n",
       "40                             open_acc -1.442517e-03\n",
       "41                              pub_rec -1.047835e-04\n",
       "42                            total_acc -4.167005e-03\n",
       "43                     total_rev_hi_lim -3.658722e-06\n",
       "44                       acc_now_delinq  2.114742e-06\n",
       "0                             Intercept -1.796324e-05"
      ]
     },
     "execution_count": 137,
     "metadata": {},
     "output_type": "execute_result"
    }
   ],
   "source": [
    "summary_table=pd.DataFrame(columns=['Feature name'],data=feature_name)\n",
    "summary_table['Coefficients']=np.transpose(reg_stage_1.coef_)\n",
    "summary_table.index=summary_table.index+1\n",
    "summary_table.loc[0]=['Intercept',reg_stage_1.intercept_[0]]\n",
    "summary_table"
   ]
  },
  {
   "cell_type": "markdown",
   "metadata": {},
   "source": [
    "# Testing the Model"
   ]
  },
  {
   "cell_type": "code",
   "execution_count": 308,
   "metadata": {},
   "outputs": [],
   "source": [
    "lgd_input_1_test=lgd_input_1_test[features_all]"
   ]
  },
  {
   "cell_type": "code",
   "execution_count": 309,
   "metadata": {},
   "outputs": [],
   "source": [
    "lgd_input_1_test=lgd_input_1_test.drop(features_ref_cat,axis=1)"
   ]
  },
  {
   "cell_type": "code",
   "execution_count": 141,
   "metadata": {},
   "outputs": [],
   "source": [
    "y_hat_test_1=reg_stage_1.predict(lgd_input_1_test)"
   ]
  },
  {
   "cell_type": "code",
   "execution_count": 142,
   "metadata": {},
   "outputs": [
    {
     "data": {
      "text/plain": [
       "array([1, 1, 0, ..., 0, 1, 1])"
      ]
     },
     "execution_count": 142,
     "metadata": {},
     "output_type": "execute_result"
    }
   ],
   "source": [
    "y_hat_test_1"
   ]
  },
  {
   "cell_type": "code",
   "execution_count": 154,
   "metadata": {},
   "outputs": [
    {
     "data": {
      "text/plain": [
       "array([[0.40938617, 0.59061383],\n",
       "       [0.40818719, 0.59181281],\n",
       "       [0.57707111, 0.42292889],\n",
       "       ...,\n",
       "       [0.59280611, 0.40719389],\n",
       "       [0.40159541, 0.59840459],\n",
       "       [0.45670777, 0.54329223]])"
      ]
     },
     "execution_count": 154,
     "metadata": {},
     "output_type": "execute_result"
    }
   ],
   "source": [
    "Y_hat_prob_1=reg_stage_1.predict_proba(lgd_input_1_test)"
   ]
  },
  {
   "cell_type": "code",
   "execution_count": 165,
   "metadata": {},
   "outputs": [
    {
     "data": {
      "text/plain": [
       "array([0.59061383, 0.59181281, 0.42292889, ..., 0.40719389, 0.59840459,\n",
       "       0.54329223])"
      ]
     },
     "execution_count": 165,
     "metadata": {},
     "output_type": "execute_result"
    }
   ],
   "source": [
    "# Probability for recovery rate greater than 0 \n",
    "y_hat_prob_1=Y_hat_prob_1[:,1]\n",
    "y_hat_prob_1"
   ]
  },
  {
   "cell_type": "code",
   "execution_count": 203,
   "metadata": {},
   "outputs": [],
   "source": [
    "lgd_target_1_test_temp=lgd_target_1_test"
   ]
  },
  {
   "cell_type": "code",
   "execution_count": 215,
   "metadata": {},
   "outputs": [],
   "source": [
    "lgd_target_1_test_temp=lgd_target_1_test_temp.reset_index(drop=True,inplace=False)"
   ]
  },
  {
   "cell_type": "code",
   "execution_count": 216,
   "metadata": {},
   "outputs": [],
   "source": [
    "df_actual_predicted_prob=pd.concat([lgd_target_1_test_temp,pd.DataFrame(y_hat_prob_1)],axis=1)"
   ]
  },
  {
   "cell_type": "code",
   "execution_count": 217,
   "metadata": {},
   "outputs": [],
   "source": [
    "df_actual_predicted_prob.index=lgd_target_1_test.index"
   ]
  },
  {
   "cell_type": "code",
   "execution_count": 218,
   "metadata": {},
   "outputs": [],
   "source": [
    "df_actual_predicted_prob.columns=['Actual','Predicted_probs']"
   ]
  },
  {
   "cell_type": "code",
   "execution_count": 219,
   "metadata": {},
   "outputs": [
    {
     "data": {
      "text/html": [
       "<div>\n",
       "<style scoped>\n",
       "    .dataframe tbody tr th:only-of-type {\n",
       "        vertical-align: middle;\n",
       "    }\n",
       "\n",
       "    .dataframe tbody tr th {\n",
       "        vertical-align: top;\n",
       "    }\n",
       "\n",
       "    .dataframe thead th {\n",
       "        text-align: right;\n",
       "    }\n",
       "</style>\n",
       "<table border=\"1\" class=\"dataframe\">\n",
       "  <thead>\n",
       "    <tr style=\"text-align: right;\">\n",
       "      <th></th>\n",
       "      <th>Actual</th>\n",
       "      <th>Predicted_probs</th>\n",
       "    </tr>\n",
       "  </thead>\n",
       "  <tbody>\n",
       "    <tr>\n",
       "      <th>178928</th>\n",
       "      <td>1</td>\n",
       "      <td>0.590614</td>\n",
       "    </tr>\n",
       "    <tr>\n",
       "      <th>69814</th>\n",
       "      <td>1</td>\n",
       "      <td>0.591813</td>\n",
       "    </tr>\n",
       "    <tr>\n",
       "      <th>101396</th>\n",
       "      <td>0</td>\n",
       "      <td>0.422929</td>\n",
       "    </tr>\n",
       "    <tr>\n",
       "      <th>463268</th>\n",
       "      <td>1</td>\n",
       "      <td>0.502977</td>\n",
       "    </tr>\n",
       "    <tr>\n",
       "      <th>253729</th>\n",
       "      <td>0</td>\n",
       "      <td>0.438695</td>\n",
       "    </tr>\n",
       "  </tbody>\n",
       "</table>\n",
       "</div>"
      ],
      "text/plain": [
       "        Actual  Predicted_probs\n",
       "178928       1         0.590614\n",
       "69814        1         0.591813\n",
       "101396       0         0.422929\n",
       "463268       1         0.502977\n",
       "253729       0         0.438695"
      ]
     },
     "execution_count": 219,
     "metadata": {},
     "output_type": "execute_result"
    }
   ],
   "source": [
    "df_actual_predicted_prob.head()"
   ]
  },
  {
   "cell_type": "markdown",
   "metadata": {},
   "source": [
    "## Accuracy of Model"
   ]
  },
  {
   "cell_type": "code",
   "execution_count": 221,
   "metadata": {},
   "outputs": [],
   "source": [
    "cutoff=0.5\n",
    "df_actual_predicted_prob['Predicted']=np.where(df_actual_predicted_prob['Predicted_probs']>cutoff,1,0)"
   ]
  },
  {
   "cell_type": "code",
   "execution_count": 222,
   "metadata": {},
   "outputs": [
    {
     "data": {
      "text/html": [
       "<div>\n",
       "<style scoped>\n",
       "    .dataframe tbody tr th:only-of-type {\n",
       "        vertical-align: middle;\n",
       "    }\n",
       "\n",
       "    .dataframe tbody tr th {\n",
       "        vertical-align: top;\n",
       "    }\n",
       "\n",
       "    .dataframe thead th {\n",
       "        text-align: right;\n",
       "    }\n",
       "</style>\n",
       "<table border=\"1\" class=\"dataframe\">\n",
       "  <thead>\n",
       "    <tr style=\"text-align: right;\">\n",
       "      <th>Predicted</th>\n",
       "      <th>0</th>\n",
       "      <th>1</th>\n",
       "    </tr>\n",
       "    <tr>\n",
       "      <th>Actual</th>\n",
       "      <th></th>\n",
       "      <th></th>\n",
       "    </tr>\n",
       "  </thead>\n",
       "  <tbody>\n",
       "    <tr>\n",
       "      <th>0</th>\n",
       "      <td>1160</td>\n",
       "      <td>2602</td>\n",
       "    </tr>\n",
       "    <tr>\n",
       "      <th>1</th>\n",
       "      <td>891</td>\n",
       "      <td>3995</td>\n",
       "    </tr>\n",
       "  </tbody>\n",
       "</table>\n",
       "</div>"
      ],
      "text/plain": [
       "Predicted     0     1\n",
       "Actual               \n",
       "0          1160  2602\n",
       "1           891  3995"
      ]
     },
     "execution_count": 222,
     "metadata": {},
     "output_type": "execute_result"
    }
   ],
   "source": [
    "pd.crosstab(df_actual_predicted_prob['Actual'],df_actual_predicted_prob['Predicted'])"
   ]
  },
  {
   "cell_type": "code",
   "execution_count": 225,
   "metadata": {},
   "outputs": [
    {
     "data": {
      "text/html": [
       "<div>\n",
       "<style scoped>\n",
       "    .dataframe tbody tr th:only-of-type {\n",
       "        vertical-align: middle;\n",
       "    }\n",
       "\n",
       "    .dataframe tbody tr th {\n",
       "        vertical-align: top;\n",
       "    }\n",
       "\n",
       "    .dataframe thead th {\n",
       "        text-align: right;\n",
       "    }\n",
       "</style>\n",
       "<table border=\"1\" class=\"dataframe\">\n",
       "  <thead>\n",
       "    <tr style=\"text-align: right;\">\n",
       "      <th>Predicted</th>\n",
       "      <th>0</th>\n",
       "      <th>1</th>\n",
       "    </tr>\n",
       "    <tr>\n",
       "      <th>Actual</th>\n",
       "      <th></th>\n",
       "      <th></th>\n",
       "    </tr>\n",
       "  </thead>\n",
       "  <tbody>\n",
       "    <tr>\n",
       "      <th>0</th>\n",
       "      <td>0.134135</td>\n",
       "      <td>0.300879</td>\n",
       "    </tr>\n",
       "    <tr>\n",
       "      <th>1</th>\n",
       "      <td>0.103030</td>\n",
       "      <td>0.461957</td>\n",
       "    </tr>\n",
       "  </tbody>\n",
       "</table>\n",
       "</div>"
      ],
      "text/plain": [
       "Predicted         0         1\n",
       "Actual                       \n",
       "0          0.134135  0.300879\n",
       "1          0.103030  0.461957"
      ]
     },
     "execution_count": 225,
     "metadata": {},
     "output_type": "execute_result"
    }
   ],
   "source": [
    "pd.crosstab(df_actual_predicted_prob['Actual'],df_actual_predicted_prob['Predicted'])/df_actual_predicted_prob.shape[0]"
   ]
  },
  {
   "cell_type": "code",
   "execution_count": 226,
   "metadata": {},
   "outputs": [],
   "source": [
    "from sklearn.metrics import roc_curve,roc_auc_score"
   ]
  },
  {
   "cell_type": "code",
   "execution_count": 227,
   "metadata": {},
   "outputs": [],
   "source": [
    "fpr,tpr,threshold=roc_curve(df_actual_predicted_prob['Actual'],df_actual_predicted_prob['Predicted_probs'])"
   ]
  },
  {
   "cell_type": "code",
   "execution_count": 230,
   "metadata": {},
   "outputs": [
    {
     "data": {
      "text/plain": [
       "Text(0.5, 1.0, 'ROC')"
      ]
     },
     "execution_count": 230,
     "metadata": {},
     "output_type": "execute_result"
    },
    {
     "data": {
      "image/png": "[encoded data removed]",
      "text/plain": [
       "<Figure size 432x288 with 1 Axes>"
      ]
     },
     "metadata": {},
     "output_type": "display_data"
    }
   ],
   "source": [
    "plt.plot(fpr,tpr)\n",
    "plt.plot(fpr,fpr,linestyle='--',color='k')\n",
    "plt.xlabel('False positive Rate')\n",
    "plt.ylabel('True Positive Rate')\n",
    "plt.title('ROC')"
   ]
  },
  {
   "cell_type": "code",
   "execution_count": 232,
   "metadata": {},
   "outputs": [
    {
     "data": {
      "text/plain": [
       "0.6342711645833347"
      ]
     },
     "execution_count": 232,
     "metadata": {},
     "output_type": "execute_result"
    }
   ],
   "source": [
    "AUCROC=roc_auc_score(df_actual_predicted_prob['Actual'],df_actual_predicted_prob['Predicted_probs'])\n",
    "AUCROC"
   ]
  },
  {
   "cell_type": "markdown",
   "metadata": {},
   "source": [
    "## Saving the model"
   ]
  },
  {
   "cell_type": "code",
   "execution_count": 233,
   "metadata": {},
   "outputs": [],
   "source": [
    "import pickle"
   ]
  },
  {
   "cell_type": "code",
   "execution_count": 234,
   "metadata": {},
   "outputs": [],
   "source": [
    "pickle.dump(reg_stage_1,open('Logit_stage_1.sav','wb'))  #unpickle.load() to call the model"
   ]
  },
  {
   "cell_type": "markdown",
   "metadata": {},
   "source": [
    "# Stage 2- Linear Regression"
   ]
  },
  {
   "cell_type": "code",
   "execution_count": 239,
   "metadata": {},
   "outputs": [],
   "source": [
    "lgd_stage_2_data=loan_data_default[loan_data_default['recovery_Rate_0_1']==1]"
   ]
  },
  {
   "cell_type": "code",
   "execution_count": 299,
   "metadata": {},
   "outputs": [],
   "source": [
    "lgd_stage_2_input_train,lgd_stage_2_input_test,lgd_stage_2_target_train,lgd_stage_2_target_test=train_test_split(lgd_stage_2_data.drop(['recovery_rate', 'CCF','recovery_Rate_0_1'],axis=1),lgd_stage_2_data['recovery_rate'],test_size=0.2,random_state=42)"
   ]
  },
  {
   "cell_type": "code",
   "execution_count": 262,
   "metadata": {},
   "outputs": [],
   "source": [
    "from sklearn.linear_model import LinearRegression\n",
    "lin_reg=LinearRegression()"
   ]
  },
  {
   "cell_type": "code",
   "execution_count": 265,
   "metadata": {},
   "outputs": [],
   "source": [
    "lgd_stage_2_input_train=lgd_stage_2_input_train[features_all]"
   ]
  },
  {
   "cell_type": "code",
   "execution_count": 268,
   "metadata": {},
   "outputs": [],
   "source": [
    "lgd_stage_2_input_train=lgd_stage_2_input_train.drop(features_ref_cat,axis=1)"
   ]
  },
  {
   "cell_type": "code",
   "execution_count": 269,
   "metadata": {},
   "outputs": [
    {
     "data": {
      "text/plain": [
       "LinearRegression()"
      ]
     },
     "execution_count": 269,
     "metadata": {},
     "output_type": "execute_result"
    }
   ],
   "source": [
    "lin_reg.fit(lgd_stage_2_input_train,lgd_stage_2_target_train)"
   ]
  },
  {
   "cell_type": "markdown",
   "metadata": {},
   "source": [
    "## Summary Table"
   ]
  },
  {
   "cell_type": "code",
   "execution_count": 270,
   "metadata": {},
   "outputs": [],
   "source": [
    "feature_name=lgd_stage_2_input_train.columns.values"
   ]
  },
  {
   "cell_type": "code",
   "execution_count": 273,
   "metadata": {},
   "outputs": [
    {
     "data": {
      "text/html": [
       "<div>\n",
       "<style scoped>\n",
       "    .dataframe tbody tr th:only-of-type {\n",
       "        vertical-align: middle;\n",
       "    }\n",
       "\n",
       "    .dataframe tbody tr th {\n",
       "        vertical-align: top;\n",
       "    }\n",
       "\n",
       "    .dataframe thead th {\n",
       "        text-align: right;\n",
       "    }\n",
       "</style>\n",
       "<table border=\"1\" class=\"dataframe\">\n",
       "  <thead>\n",
       "    <tr style=\"text-align: right;\">\n",
       "      <th></th>\n",
       "      <th>Feature name</th>\n",
       "      <th>Coefficients</th>\n",
       "    </tr>\n",
       "  </thead>\n",
       "  <tbody>\n",
       "    <tr>\n",
       "      <th>1</th>\n",
       "      <td>grade:A</td>\n",
       "      <td>-6.817107e-02</td>\n",
       "    </tr>\n",
       "    <tr>\n",
       "      <th>2</th>\n",
       "      <td>grade:B</td>\n",
       "      <td>-5.074311e-02</td>\n",
       "    </tr>\n",
       "    <tr>\n",
       "      <th>3</th>\n",
       "      <td>grade:C</td>\n",
       "      <td>-3.738639e-02</td>\n",
       "    </tr>\n",
       "    <tr>\n",
       "      <th>4</th>\n",
       "      <td>grade:D</td>\n",
       "      <td>-2.708462e-02</td>\n",
       "    </tr>\n",
       "    <tr>\n",
       "      <th>5</th>\n",
       "      <td>grade:E</td>\n",
       "      <td>-1.309302e-02</td>\n",
       "    </tr>\n",
       "    <tr>\n",
       "      <th>6</th>\n",
       "      <td>grade:F</td>\n",
       "      <td>-5.193408e-03</td>\n",
       "    </tr>\n",
       "    <tr>\n",
       "      <th>7</th>\n",
       "      <td>verification_status:Not Verified</td>\n",
       "      <td>1.072438e-03</td>\n",
       "    </tr>\n",
       "    <tr>\n",
       "      <th>8</th>\n",
       "      <td>verification_status:Source Verified</td>\n",
       "      <td>-1.006387e-03</td>\n",
       "    </tr>\n",
       "    <tr>\n",
       "      <th>9</th>\n",
       "      <td>home_ownership:MORTGAGE</td>\n",
       "      <td>2.848479e-03</td>\n",
       "    </tr>\n",
       "    <tr>\n",
       "      <th>10</th>\n",
       "      <td>home_ownership:ANY</td>\n",
       "      <td>-4.098935e-13</td>\n",
       "    </tr>\n",
       "    <tr>\n",
       "      <th>11</th>\n",
       "      <td>home_ownership:OTHER</td>\n",
       "      <td>-9.563779e-03</td>\n",
       "    </tr>\n",
       "    <tr>\n",
       "      <th>12</th>\n",
       "      <td>home_ownership:NONE</td>\n",
       "      <td>1.460187e-01</td>\n",
       "    </tr>\n",
       "    <tr>\n",
       "      <th>13</th>\n",
       "      <td>home_ownership:OWN</td>\n",
       "      <td>5.005778e-03</td>\n",
       "    </tr>\n",
       "    <tr>\n",
       "      <th>14</th>\n",
       "      <td>purpose:debt_consolidation</td>\n",
       "      <td>2.636973e-04</td>\n",
       "    </tr>\n",
       "    <tr>\n",
       "      <th>15</th>\n",
       "      <td>purpose:car</td>\n",
       "      <td>-2.801676e-03</td>\n",
       "    </tr>\n",
       "    <tr>\n",
       "      <th>16</th>\n",
       "      <td>purpose:home_improvement</td>\n",
       "      <td>-3.521005e-03</td>\n",
       "    </tr>\n",
       "    <tr>\n",
       "      <th>17</th>\n",
       "      <td>purpose:moving</td>\n",
       "      <td>1.419421e-02</td>\n",
       "    </tr>\n",
       "    <tr>\n",
       "      <th>18</th>\n",
       "      <td>purpose:educational</td>\n",
       "      <td>7.649734e-02</td>\n",
       "    </tr>\n",
       "    <tr>\n",
       "      <th>19</th>\n",
       "      <td>purpose:medical</td>\n",
       "      <td>1.098734e-02</td>\n",
       "    </tr>\n",
       "    <tr>\n",
       "      <th>20</th>\n",
       "      <td>purpose:major_purchase</td>\n",
       "      <td>3.106539e-03</td>\n",
       "    </tr>\n",
       "    <tr>\n",
       "      <th>21</th>\n",
       "      <td>purpose:renewable_energy</td>\n",
       "      <td>2.441791e-02</td>\n",
       "    </tr>\n",
       "    <tr>\n",
       "      <th>22</th>\n",
       "      <td>purpose:other</td>\n",
       "      <td>5.040029e-03</td>\n",
       "    </tr>\n",
       "    <tr>\n",
       "      <th>23</th>\n",
       "      <td>purpose:wedding</td>\n",
       "      <td>2.054906e-02</td>\n",
       "    </tr>\n",
       "    <tr>\n",
       "      <th>24</th>\n",
       "      <td>purpose:vacation</td>\n",
       "      <td>-2.833011e-03</td>\n",
       "    </tr>\n",
       "    <tr>\n",
       "      <th>25</th>\n",
       "      <td>purpose:small_business</td>\n",
       "      <td>8.325453e-04</td>\n",
       "    </tr>\n",
       "    <tr>\n",
       "      <th>26</th>\n",
       "      <td>initial_list_status:w</td>\n",
       "      <td>1.464605e-02</td>\n",
       "    </tr>\n",
       "    <tr>\n",
       "      <th>27</th>\n",
       "      <td>emp_length_int</td>\n",
       "      <td>8.758635e-05</td>\n",
       "    </tr>\n",
       "    <tr>\n",
       "      <th>28</th>\n",
       "      <td>term_int</td>\n",
       "      <td>3.321246e-04</td>\n",
       "    </tr>\n",
       "    <tr>\n",
       "      <th>29</th>\n",
       "      <td>months_since_credit_Cr_line</td>\n",
       "      <td>3.395813e-05</td>\n",
       "    </tr>\n",
       "    <tr>\n",
       "      <th>30</th>\n",
       "      <td>months_issue_date</td>\n",
       "      <td>-1.522358e-03</td>\n",
       "    </tr>\n",
       "    <tr>\n",
       "      <th>31</th>\n",
       "      <td>funded_amnt</td>\n",
       "      <td>-2.214669e-07</td>\n",
       "    </tr>\n",
       "    <tr>\n",
       "      <th>32</th>\n",
       "      <td>int_rate</td>\n",
       "      <td>-2.546236e-03</td>\n",
       "    </tr>\n",
       "    <tr>\n",
       "      <th>33</th>\n",
       "      <td>installment</td>\n",
       "      <td>-1.028519e-05</td>\n",
       "    </tr>\n",
       "    <tr>\n",
       "      <th>34</th>\n",
       "      <td>annual_inc</td>\n",
       "      <td>6.397278e-08</td>\n",
       "    </tr>\n",
       "    <tr>\n",
       "      <th>35</th>\n",
       "      <td>dti</td>\n",
       "      <td>1.792943e-04</td>\n",
       "    </tr>\n",
       "    <tr>\n",
       "      <th>36</th>\n",
       "      <td>delinq_2yrs</td>\n",
       "      <td>1.753781e-03</td>\n",
       "    </tr>\n",
       "    <tr>\n",
       "      <th>37</th>\n",
       "      <td>inq_last_6mths</td>\n",
       "      <td>1.266041e-03</td>\n",
       "    </tr>\n",
       "    <tr>\n",
       "      <th>38</th>\n",
       "      <td>mths_since_last_record</td>\n",
       "      <td>-5.525049e-05</td>\n",
       "    </tr>\n",
       "    <tr>\n",
       "      <th>39</th>\n",
       "      <td>mths_since_last_delinq</td>\n",
       "      <td>-1.021271e-06</td>\n",
       "    </tr>\n",
       "    <tr>\n",
       "      <th>40</th>\n",
       "      <td>open_acc</td>\n",
       "      <td>-1.195397e-03</td>\n",
       "    </tr>\n",
       "    <tr>\n",
       "      <th>41</th>\n",
       "      <td>pub_rec</td>\n",
       "      <td>3.415009e-03</td>\n",
       "    </tr>\n",
       "    <tr>\n",
       "      <th>42</th>\n",
       "      <td>total_acc</td>\n",
       "      <td>4.768717e-04</td>\n",
       "    </tr>\n",
       "    <tr>\n",
       "      <th>43</th>\n",
       "      <td>total_rev_hi_lim</td>\n",
       "      <td>2.265283e-07</td>\n",
       "    </tr>\n",
       "    <tr>\n",
       "      <th>44</th>\n",
       "      <td>acc_now_delinq</td>\n",
       "      <td>4.251856e-03</td>\n",
       "    </tr>\n",
       "    <tr>\n",
       "      <th>0</th>\n",
       "      <td>Intercept</td>\n",
       "      <td>2.404514e-01</td>\n",
       "    </tr>\n",
       "  </tbody>\n",
       "</table>\n",
       "</div>"
      ],
      "text/plain": [
       "                           Feature name  Coefficients\n",
       "1                               grade:A -6.817107e-02\n",
       "2                               grade:B -5.074311e-02\n",
       "3                               grade:C -3.738639e-02\n",
       "4                               grade:D -2.708462e-02\n",
       "5                               grade:E -1.309302e-02\n",
       "6                               grade:F -5.193408e-03\n",
       "7      verification_status:Not Verified  1.072438e-03\n",
       "8   verification_status:Source Verified -1.006387e-03\n",
       "9               home_ownership:MORTGAGE  2.848479e-03\n",
       "10                   home_ownership:ANY -4.098935e-13\n",
       "11                 home_ownership:OTHER -9.563779e-03\n",
       "12                  home_ownership:NONE  1.460187e-01\n",
       "13                   home_ownership:OWN  5.005778e-03\n",
       "14           purpose:debt_consolidation  2.636973e-04\n",
       "15                          purpose:car -2.801676e-03\n",
       "16             purpose:home_improvement -3.521005e-03\n",
       "17                       purpose:moving  1.419421e-02\n",
       "18                  purpose:educational  7.649734e-02\n",
       "19                      purpose:medical  1.098734e-02\n",
       "20               purpose:major_purchase  3.106539e-03\n",
       "21             purpose:renewable_energy  2.441791e-02\n",
       "22                        purpose:other  5.040029e-03\n",
       "23                      purpose:wedding  2.054906e-02\n",
       "24                     purpose:vacation -2.833011e-03\n",
       "25               purpose:small_business  8.325453e-04\n",
       "26                initial_list_status:w  1.464605e-02\n",
       "27                       emp_length_int  8.758635e-05\n",
       "28                             term_int  3.321246e-04\n",
       "29          months_since_credit_Cr_line  3.395813e-05\n",
       "30                    months_issue_date -1.522358e-03\n",
       "31                          funded_amnt -2.214669e-07\n",
       "32                             int_rate -2.546236e-03\n",
       "33                          installment -1.028519e-05\n",
       "34                           annual_inc  6.397278e-08\n",
       "35                                  dti  1.792943e-04\n",
       "36                          delinq_2yrs  1.753781e-03\n",
       "37                       inq_last_6mths  1.266041e-03\n",
       "38               mths_since_last_record -5.525049e-05\n",
       "39               mths_since_last_delinq -1.021271e-06\n",
       "40                             open_acc -1.195397e-03\n",
       "41                              pub_rec  3.415009e-03\n",
       "42                            total_acc  4.768717e-04\n",
       "43                     total_rev_hi_lim  2.265283e-07\n",
       "44                       acc_now_delinq  4.251856e-03\n",
       "0                             Intercept  2.404514e-01"
      ]
     },
     "execution_count": 273,
     "metadata": {},
     "output_type": "execute_result"
    }
   ],
   "source": [
    "summary_table=pd.DataFrame(columns=['Feature name'],data=feature_name)\n",
    "summary_table['Coefficients']=np.transpose(lin_reg.coef_)\n",
    "summary_table.index=summary_table.index+1\n",
    "summary_table.loc[0]=['Intercept',lin_reg.intercept_]\n",
    "summary_table"
   ]
  },
  {
   "cell_type": "markdown",
   "metadata": {},
   "source": [
    "# validation"
   ]
  },
  {
   "cell_type": "code",
   "execution_count": 274,
   "metadata": {},
   "outputs": [],
   "source": [
    "lgd_stage_2_input_test=lgd_stage_2_input_test[features_all]"
   ]
  },
  {
   "cell_type": "code",
   "execution_count": 275,
   "metadata": {},
   "outputs": [],
   "source": [
    "lgd_stage_2_input_test=lgd_stage_2_input_test.drop(features_ref_cat,axis=1)"
   ]
  },
  {
   "cell_type": "code",
   "execution_count": 276,
   "metadata": {},
   "outputs": [],
   "source": [
    "y_hat_test_stage_2=lin_reg.predict(lgd_stage_2_input_test)"
   ]
  },
  {
   "cell_type": "code",
   "execution_count": 300,
   "metadata": {},
   "outputs": [
    {
     "data": {
      "text/plain": [
       "array([0.09396541, 0.15455435, 0.13063903, ..., 0.11705658, 0.11147085,\n",
       "       0.12294596])"
      ]
     },
     "execution_count": 300,
     "metadata": {},
     "output_type": "execute_result"
    }
   ],
   "source": [
    "y_hat_test_stage_2"
   ]
  },
  {
   "cell_type": "code",
   "execution_count": 301,
   "metadata": {},
   "outputs": [],
   "source": [
    "lgd_stage_2_target_test_temp=lgd_stage_2_target_test.copy()"
   ]
  },
  {
   "cell_type": "code",
   "execution_count": 302,
   "metadata": {},
   "outputs": [],
   "source": [
    "lgd_stage_2_target_test_temp=lgd_stage_2_target_test_temp.reset_index(drop=True)"
   ]
  },
  {
   "cell_type": "code",
   "execution_count": 303,
   "metadata": {},
   "outputs": [
    {
     "data": {
      "text/html": [
       "<div>\n",
       "<style scoped>\n",
       "    .dataframe tbody tr th:only-of-type {\n",
       "        vertical-align: middle;\n",
       "    }\n",
       "\n",
       "    .dataframe tbody tr th {\n",
       "        vertical-align: top;\n",
       "    }\n",
       "\n",
       "    .dataframe thead th {\n",
       "        text-align: right;\n",
       "    }\n",
       "</style>\n",
       "<table border=\"1\" class=\"dataframe\">\n",
       "  <thead>\n",
       "    <tr style=\"text-align: right;\">\n",
       "      <th></th>\n",
       "      <th>recovery_rate</th>\n",
       "      <th>0</th>\n",
       "    </tr>\n",
       "  </thead>\n",
       "  <tbody>\n",
       "    <tr>\n",
       "      <th>recovery_rate</th>\n",
       "      <td>1.000000</td>\n",
       "      <td>0.308049</td>\n",
       "    </tr>\n",
       "    <tr>\n",
       "      <th>0</th>\n",
       "      <td>0.308049</td>\n",
       "      <td>1.000000</td>\n",
       "    </tr>\n",
       "  </tbody>\n",
       "</table>\n",
       "</div>"
      ],
      "text/plain": [
       "               recovery_rate         0\n",
       "recovery_rate       1.000000  0.308049\n",
       "0                   0.308049  1.000000"
      ]
     },
     "execution_count": 303,
     "metadata": {},
     "output_type": "execute_result"
    }
   ],
   "source": [
    "pd.concat([lgd_stage_2_target_test_temp,pd.DataFrame(y_hat_test_stage_2)],axis=1).corr()"
   ]
  },
  {
   "cell_type": "markdown",
   "metadata": {},
   "source": [
    "Correlation is 0.31 is good for model. Very high correlation shows model methodology not perfect"
   ]
  },
  {
   "cell_type": "code",
   "execution_count": 304,
   "metadata": {},
   "outputs": [
    {
     "data": {
      "text/plain": [
       "<matplotlib.axes._subplots.AxesSubplot at 0x1ccddfcb1c8>"
      ]
     },
     "execution_count": 304,
     "metadata": {},
     "output_type": "execute_result"
    },
    {
     "data": {
      "image/png": "[encoded data removed]",
      "text/plain": [
       "<Figure size 432x288 with 1 Axes>"
      ]
     },
     "metadata": {},
     "output_type": "display_data"
    }
   ],
   "source": [
    "#Residual Distribution\n",
    "sns.distplot(lgd_stage_2_target_test-y_hat_test_stage_2)"
   ]
  },
  {
   "cell_type": "markdown",
   "metadata": {},
   "source": [
    "Residual is Normally Distributed...concentrated at the centre.... Hence, a good model...."
   ]
  },
  {
   "cell_type": "code",
   "execution_count": 305,
   "metadata": {},
   "outputs": [],
   "source": [
    "pickle.dump(lin_reg,open('Linear_model_stage_2.sav','wb'))"
   ]
  },
  {
   "cell_type": "markdown",
   "metadata": {},
   "source": [
    "# Combining Stage 1 and Stage 2"
   ]
  },
  {
   "cell_type": "code",
   "execution_count": 310,
   "metadata": {},
   "outputs": [],
   "source": [
    "y_hat_test_lgd_stage_2_all=lin_reg.predict(lgd_input_1_test)"
   ]
  },
  {
   "cell_type": "code",
   "execution_count": 311,
   "metadata": {},
   "outputs": [
    {
     "data": {
      "text/plain": [
       "array([0.11921924, 0.09587211, 0.13367009, ..., 0.12061669, 0.11586184,\n",
       "       0.1567117 ])"
      ]
     },
     "execution_count": 311,
     "metadata": {},
     "output_type": "execute_result"
    }
   ],
   "source": [
    "y_hat_test_lgd_stage_2_all"
   ]
  },
  {
   "cell_type": "code",
   "execution_count": 313,
   "metadata": {},
   "outputs": [],
   "source": [
    "y_hat_test_lgd=y_hat_test_lgd_stage_2_all*y_hat_test_1"
   ]
  },
  {
   "cell_type": "code",
   "execution_count": 314,
   "metadata": {},
   "outputs": [
    {
     "data": {
      "text/plain": [
       "array([0.11921924, 0.09587211, 0.        , ..., 0.        , 0.11586184,\n",
       "       0.1567117 ])"
      ]
     },
     "execution_count": 314,
     "metadata": {},
     "output_type": "execute_result"
    }
   ],
   "source": [
    "y_hat_test_lgd"
   ]
  },
  {
   "cell_type": "code",
   "execution_count": 316,
   "metadata": {},
   "outputs": [
    {
     "data": {
      "text/html": [
       "<div>\n",
       "<style scoped>\n",
       "    .dataframe tbody tr th:only-of-type {\n",
       "        vertical-align: middle;\n",
       "    }\n",
       "\n",
       "    .dataframe tbody tr th {\n",
       "        vertical-align: top;\n",
       "    }\n",
       "\n",
       "    .dataframe thead th {\n",
       "        text-align: right;\n",
       "    }\n",
       "</style>\n",
       "<table border=\"1\" class=\"dataframe\">\n",
       "  <thead>\n",
       "    <tr style=\"text-align: right;\">\n",
       "      <th></th>\n",
       "      <th>0</th>\n",
       "    </tr>\n",
       "  </thead>\n",
       "  <tbody>\n",
       "    <tr>\n",
       "      <th>count</th>\n",
       "      <td>8648.000000</td>\n",
       "    </tr>\n",
       "    <tr>\n",
       "      <th>mean</th>\n",
       "      <td>0.082278</td>\n",
       "    </tr>\n",
       "    <tr>\n",
       "      <th>std</th>\n",
       "      <td>0.052472</td>\n",
       "    </tr>\n",
       "    <tr>\n",
       "      <th>min</th>\n",
       "      <td>-0.007626</td>\n",
       "    </tr>\n",
       "    <tr>\n",
       "      <th>25%</th>\n",
       "      <td>0.035086</td>\n",
       "    </tr>\n",
       "    <tr>\n",
       "      <th>50%</th>\n",
       "      <td>0.097615</td>\n",
       "    </tr>\n",
       "    <tr>\n",
       "      <th>75%</th>\n",
       "      <td>0.122181</td>\n",
       "    </tr>\n",
       "    <tr>\n",
       "      <th>max</th>\n",
       "      <td>0.236936</td>\n",
       "    </tr>\n",
       "  </tbody>\n",
       "</table>\n",
       "</div>"
      ],
      "text/plain": [
       "                 0\n",
       "count  8648.000000\n",
       "mean      0.082278\n",
       "std       0.052472\n",
       "min      -0.007626\n",
       "25%       0.035086\n",
       "50%       0.097615\n",
       "75%       0.122181\n",
       "max       0.236936"
      ]
     },
     "execution_count": 316,
     "metadata": {},
     "output_type": "execute_result"
    }
   ],
   "source": [
    "pd.DataFrame(y_hat_test_lgd).describe()"
   ]
  },
  {
   "cell_type": "markdown",
   "metadata": {},
   "source": [
    "minimum value is negative.... set it to zero.. and also limit max to 1"
   ]
  },
  {
   "cell_type": "code",
   "execution_count": 317,
   "metadata": {},
   "outputs": [],
   "source": [
    "y_hat_test_lgd=np.where(y_hat_test_lgd<0,0,y_hat_test_lgd)\n",
    "y_hat_test_lgd=np.where(y_hat_test_lgd>1,1,y_hat_test_lgd)"
   ]
  },
  {
   "cell_type": "code",
   "execution_count": 318,
   "metadata": {},
   "outputs": [
    {
     "data": {
      "text/html": [
       "<div>\n",
       "<style scoped>\n",
       "    .dataframe tbody tr th:only-of-type {\n",
       "        vertical-align: middle;\n",
       "    }\n",
       "\n",
       "    .dataframe tbody tr th {\n",
       "        vertical-align: top;\n",
       "    }\n",
       "\n",
       "    .dataframe thead th {\n",
       "        text-align: right;\n",
       "    }\n",
       "</style>\n",
       "<table border=\"1\" class=\"dataframe\">\n",
       "  <thead>\n",
       "    <tr style=\"text-align: right;\">\n",
       "      <th></th>\n",
       "      <th>0</th>\n",
       "    </tr>\n",
       "  </thead>\n",
       "  <tbody>\n",
       "    <tr>\n",
       "      <th>count</th>\n",
       "      <td>8648.000000</td>\n",
       "    </tr>\n",
       "    <tr>\n",
       "      <th>mean</th>\n",
       "      <td>0.082280</td>\n",
       "    </tr>\n",
       "    <tr>\n",
       "      <th>std</th>\n",
       "      <td>0.052469</td>\n",
       "    </tr>\n",
       "    <tr>\n",
       "      <th>min</th>\n",
       "      <td>0.000000</td>\n",
       "    </tr>\n",
       "    <tr>\n",
       "      <th>25%</th>\n",
       "      <td>0.035086</td>\n",
       "    </tr>\n",
       "    <tr>\n",
       "      <th>50%</th>\n",
       "      <td>0.097615</td>\n",
       "    </tr>\n",
       "    <tr>\n",
       "      <th>75%</th>\n",
       "      <td>0.122181</td>\n",
       "    </tr>\n",
       "    <tr>\n",
       "      <th>max</th>\n",
       "      <td>0.236936</td>\n",
       "    </tr>\n",
       "  </tbody>\n",
       "</table>\n",
       "</div>"
      ],
      "text/plain": [
       "                 0\n",
       "count  8648.000000\n",
       "mean      0.082280\n",
       "std       0.052469\n",
       "min       0.000000\n",
       "25%       0.035086\n",
       "50%       0.097615\n",
       "75%       0.122181\n",
       "max       0.236936"
      ]
     },
     "execution_count": 318,
     "metadata": {},
     "output_type": "execute_result"
    }
   ],
   "source": [
    "pd.DataFrame(y_hat_test_lgd).describe()"
   ]
  },
  {
   "cell_type": "code",
   "execution_count": null,
   "metadata": {},
   "outputs": [],
   "source": []
  }
 ],
 "metadata": {
  "kernelspec": {
   "display_name": "Python 3",
   "language": "python",
   "name": "python3"
  },
  "language_info": {
   "codemirror_mode": {
    "name": "ipython",
    "version": 3
   },
   "file_extension": ".py",
   "mimetype": "text/x-python",
   "name": "python",
   "nbconvert_exporter": "python",
   "pygments_lexer": "ipython3",
   "version": "3.7.7"
  }
 },
 "nbformat": 4,
 "nbformat_minor": 4
}
