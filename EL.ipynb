{
 "cells": [
  {
   "cell_type": "code",
   "execution_count": 90,
   "metadata": {},
   "outputs": [],
   "source": [
    "import pandas as pd\n",
    "import numpy as np\n",
    "import pickle\n",
    "from sklearn.model_selection import train_test_split"
   ]
  },
  {
   "cell_type": "markdown",
   "metadata": {},
   "source": [
    "Expected Loss for an individual is very less. So in bank expected loss is calculated according to Portfolio. Here I have individual information. So, here I have Calculated the expected Loss for all individuals."
   ]
  },
  {
   "cell_type": "markdown",
   "metadata": {},
   "source": [
    "## Calculation of LGD"
   ]
  },
  {
   "cell_type": "code",
   "execution_count": 91,
   "metadata": {},
   "outputs": [
    {
     "name": "stderr",
     "output_type": "stream",
     "text": [
      "c:\\users\\rhitc\\appdata\\local\\programs\\python\\python37\\lib\\site-packages\\IPython\\core\\interactiveshell.py:3063: DtypeWarning: Columns (21,49) have mixed types.Specify dtype option on import or set low_memory=False.\n",
      "  interactivity=interactivity, compiler=compiler, result=result)\n"
     ]
    }
   ],
   "source": [
    "loan_data_preprocessed=pd.read_csv('loan_preprocessed.csv')"
   ]
  },
  {
   "cell_type": "code",
   "execution_count": 94,
   "metadata": {},
   "outputs": [],
   "source": [
    "loan_data_default=loan_data_preprocessed.copy()"
   ]
  },
  {
   "cell_type": "code",
   "execution_count": 95,
   "metadata": {},
   "outputs": [
    {
     "data": {
      "text/plain": [
       "(466285, 208)"
      ]
     },
     "execution_count": 95,
     "metadata": {},
     "output_type": "execute_result"
    }
   ],
   "source": [
    "loan_data_default.shape"
   ]
  },
  {
   "cell_type": "code",
   "execution_count": 96,
   "metadata": {},
   "outputs": [],
   "source": [
    "loan_data_default['mths_since_last_delinq'].fillna(0,inplace=True)\n",
    "loan_data_default['mths_since_last_record'].fillna(0,inplace=True)"
   ]
  },
  {
   "cell_type": "code",
   "execution_count": 97,
   "metadata": {},
   "outputs": [],
   "source": [
    "features_all=['grade:A',\n",
    "'grade:B',\n",
    "'grade:C',\n",
    "'grade:D',\n",
    "'grade:E',\n",
    "'grade:F',\n",
    "'grade:G',\n",
    "'verification_status:Not Verified',\n",
    "'verification_status:Source Verified',\n",
    "'verification_status:Verified',\n",
    "'home_ownership:MORTGAGE',\n",
    "'home_ownership:ANY',\n",
    "'home_ownership:OTHER',\n",
    "'home_ownership:NONE',\n",
    "'home_ownership:RENT',\n",
    "'home_ownership:OWN',\n",
    "'purpose:debt_consolidation',\n",
    "'purpose:credit_card',\n",
    "'purpose:car', \n",
    "'purpose:home_improvement', \n",
    "'purpose:moving',\n",
    "'purpose:educational', \n",
    "'purpose:medical',\n",
    "'purpose:major_purchase',\n",
    "'purpose:renewable_energy',\n",
    "'purpose:other',\n",
    "'purpose:wedding',\n",
    "'purpose:vacation',\n",
    "'purpose:small_business',\n",
    "'initial_list_status:f',\n",
    "'initial_list_status:w',\n",
    "'emp_length_int',\n",
    "'term_int',\n",
    "'months_since_credit_Cr_line',\n",
    "'months_issue_date',\n",
    "'funded_amnt',\n",
    "'int_rate',\n",
    "'installment',\n",
    "'annual_inc',\n",
    "'dti',\n",
    "'delinq_2yrs',\n",
    "'inq_last_6mths',\n",
    "'mths_since_last_record',\n",
    "'mths_since_last_delinq',\n",
    "'open_acc',\n",
    "'pub_rec',\n",
    "'total_acc',\n",
    "'total_rev_hi_lim',\n",
    "'acc_now_delinq'\n",
    "]"
   ]
  },
  {
   "cell_type": "code",
   "execution_count": 98,
   "metadata": {},
   "outputs": [],
   "source": [
    "features_ref_cat=['grade:G',\n",
    "'verification_status:Verified',\n",
    "'home_ownership:RENT',\n",
    "'purpose:credit_card',\n",
    "'initial_list_status:f'\n",
    "]"
   ]
  },
  {
   "cell_type": "code",
   "execution_count": 99,
   "metadata": {},
   "outputs": [],
   "source": [
    "loan_data_lgd_ead=loan_data_default[features_all]"
   ]
  },
  {
   "cell_type": "code",
   "execution_count": 100,
   "metadata": {},
   "outputs": [],
   "source": [
    "loan_data_lgd_ead=loan_data_lgd_ead.drop(features_ref_cat,axis=1)"
   ]
  },
  {
   "cell_type": "code",
   "execution_count": 101,
   "metadata": {},
   "outputs": [],
   "source": [
    "logit_reg_1=pickle.load(open('Logit_stage_1.sav','rb'))\n",
    "lin_reg_2=pickle.load(open('Linear_model_stage_2.sav','rb'))"
   ]
  },
  {
   "cell_type": "code",
   "execution_count": 102,
   "metadata": {},
   "outputs": [],
   "source": [
    "loan_data_default['recovery_rate_1']=logit_reg_1.predict(loan_data_lgd_ead)"
   ]
  },
  {
   "cell_type": "code",
   "execution_count": 103,
   "metadata": {},
   "outputs": [],
   "source": [
    "loan_data_default['recovery_rate_2']=lin_reg_2.predict(loan_data_lgd_ead)"
   ]
  },
  {
   "cell_type": "code",
   "execution_count": 104,
   "metadata": {},
   "outputs": [],
   "source": [
    "loan_data_default['recovery_rate']=loan_data_default['recovery_rate_1']*loan_data_default['recovery_rate_2']"
   ]
  },
  {
   "cell_type": "code",
   "execution_count": 105,
   "metadata": {},
   "outputs": [],
   "source": [
    "loan_data_default['recovery_rate']=np.where(loan_data_default['recovery_rate']<0,0,loan_data_default['recovery_rate'])\n",
    "loan_data_default['recovery_rate']=np.where(loan_data_default['recovery_rate']>1,1,loan_data_default['recovery_rate'])"
   ]
  },
  {
   "cell_type": "code",
   "execution_count": 106,
   "metadata": {},
   "outputs": [
    {
     "data": {
      "text/plain": [
       "count    466285.000000\n",
       "mean          0.076184\n",
       "std           0.058970\n",
       "min           0.000000\n",
       "25%           0.000000\n",
       "50%           0.096719\n",
       "75%           0.126054\n",
       "max           0.642424\n",
       "Name: recovery_rate, dtype: float64"
      ]
     },
     "execution_count": 106,
     "metadata": {},
     "output_type": "execute_result"
    }
   ],
   "source": [
    "loan_data_default['recovery_rate'].describe()"
   ]
  },
  {
   "cell_type": "code",
   "execution_count": 107,
   "metadata": {},
   "outputs": [],
   "source": [
    "loan_data_default['LGD']=1-loan_data_default['recovery_rate']"
   ]
  },
  {
   "cell_type": "markdown",
   "metadata": {},
   "source": [
    "## Calculation of EAD"
   ]
  },
  {
   "cell_type": "code",
   "execution_count": 108,
   "metadata": {},
   "outputs": [],
   "source": [
    "reg_ead=pickle.load(open('reg_ead.sav','rb'))"
   ]
  },
  {
   "cell_type": "code",
   "execution_count": 110,
   "metadata": {},
   "outputs": [],
   "source": [
    "loan_data_default['CCF']=reg_ead.predict(loan_data_lgd_ead)"
   ]
  },
  {
   "cell_type": "code",
   "execution_count": 111,
   "metadata": {},
   "outputs": [],
   "source": [
    "loan_data_default['CCF']=np.where(loan_data_default['CCF']<0,0,loan_data_default['CCF'])\n",
    "loan_data_default['CCF']=np.where(loan_data_default['CCF']>1,1,loan_data_default['CCF'])"
   ]
  },
  {
   "cell_type": "code",
   "execution_count": 112,
   "metadata": {},
   "outputs": [
    {
     "data": {
      "text/plain": [
       "count    466285.000000\n",
       "mean          0.737595\n",
       "std           0.101725\n",
       "min           0.293121\n",
       "25%           0.671053\n",
       "50%           0.730688\n",
       "75%           0.803395\n",
       "max           1.000000\n",
       "Name: CCF, dtype: float64"
      ]
     },
     "execution_count": 112,
     "metadata": {},
     "output_type": "execute_result"
    }
   ],
   "source": [
    "loan_data_default['CCF'].describe()"
   ]
  },
  {
   "cell_type": "code",
   "execution_count": 113,
   "metadata": {},
   "outputs": [],
   "source": [
    "loan_data_default['EAD']=loan_data_default['CCF']*loan_data_default['funded_amnt']"
   ]
  },
  {
   "cell_type": "code",
   "execution_count": 114,
   "metadata": {},
   "outputs": [
    {
     "data": {
      "text/plain": [
       "count    466285.000000\n",
       "mean      10814.989832\n",
       "std        6935.008185\n",
       "min         190.449515\n",
       "25%        5495.638347\n",
       "50%        9209.115052\n",
       "75%       14692.003668\n",
       "max       35000.000000\n",
       "Name: EAD, dtype: float64"
      ]
     },
     "execution_count": 114,
     "metadata": {},
     "output_type": "execute_result"
    }
   ],
   "source": [
    "loan_data_default['EAD'].describe()"
   ]
  },
  {
   "cell_type": "markdown",
   "metadata": {},
   "source": [
    "# Calculation of PD"
   ]
  },
  {
   "cell_type": "code",
   "execution_count": 45,
   "metadata": {},
   "outputs": [],
   "source": [
    "x_train=pd.read_csv('input_train_with_ref_cat.csv')\n",
    "y_train=pd.read_csv('Y_train.csv')\n",
    "x_test=pd.read_csv('input_test_with_ref_cat.csv')\n",
    "y_test=pd.read_csv('Y_test.csv')"
   ]
  },
  {
   "cell_type": "code",
   "execution_count": 44,
   "metadata": {},
   "outputs": [],
   "source": [
    "ref_cat=['grade:G',\n",
    "'homeOwnership_Rent_Other_Any_None',\n",
    "'addr_state:ND_NE_IA_NV_FL_HI_AL',\n",
    "'verification_status:Verified',\n",
    "'initial_list_status:f',\n",
    "'term:60',\n",
    "'emp_length:0',\n",
    "'months_since_issue_date:>85',\n",
    "'int_rate:>20.281',\n",
    "'annual_inc:<20000',\n",
    "'dti:>35',\n",
    "'mths_since_last_delinq:0-3',\n",
    "'mths_since_last_record:0-2',\n",
    "'purpose:educ__sm_b__wedd__ren_en__mov__house',\n",
    "'delinq_2yrs:>4',\n",
    "'inq_last_6mths:>6',\n",
    "'open_acc:0',\n",
    "'pub_rec:0',\n",
    "'total_acc:10-27',\n",
    "'acc_now_delinq:0',\n",
    "'months_since_credit_Cr_line:<140',\n",
    "'total_rev_hi_lim:<=4k']"
   ]
  },
  {
   "cell_type": "code",
   "execution_count": 115,
   "metadata": {},
   "outputs": [
    {
     "data": {
      "text/plain": [
       "466285"
      ]
     },
     "execution_count": 115,
     "metadata": {},
     "output_type": "execute_result"
    }
   ],
   "source": [
    "x_train.shape[0]+x_test.shape[0]"
   ]
  },
  {
   "cell_type": "code",
   "execution_count": 51,
   "metadata": {},
   "outputs": [],
   "source": [
    "x_train=x_train.drop(ref_cat,axis=1)\n",
    "x_test=x_test.drop(ref_cat,axis=1)"
   ]
  },
  {
   "cell_type": "markdown",
   "metadata": {},
   "source": [
    "## Setting Index"
   ]
  },
  {
   "cell_type": "code",
   "execution_count": 160,
   "metadata": {},
   "outputs": [
    {
     "data": {
      "text/html": [
       "<div>\n",
       "<style scoped>\n",
       "    .dataframe tbody tr th:only-of-type {\n",
       "        vertical-align: middle;\n",
       "    }\n",
       "\n",
       "    .dataframe tbody tr th {\n",
       "        vertical-align: top;\n",
       "    }\n",
       "\n",
       "    .dataframe thead th {\n",
       "        text-align: right;\n",
       "    }\n",
       "</style>\n",
       "<table border=\"1\" class=\"dataframe\">\n",
       "  <thead>\n",
       "    <tr style=\"text-align: right;\">\n",
       "      <th></th>\n",
       "      <th>grade:A</th>\n",
       "      <th>grade:B</th>\n",
       "      <th>grade:C</th>\n",
       "      <th>grade:D</th>\n",
       "      <th>grade:E</th>\n",
       "      <th>grade:F</th>\n",
       "      <th>home_ownership:OWN</th>\n",
       "      <th>home_ownership:MORTGAGE</th>\n",
       "      <th>addr_state:NM_VA</th>\n",
       "      <th>addr_state:UT_KY_AZ_NJ</th>\n",
       "      <th>...</th>\n",
       "      <th>total_acc:27-54</th>\n",
       "      <th>total_acc:&gt;55</th>\n",
       "      <th>acc_now_delinq:&gt;=1</th>\n",
       "      <th>months_since_credit_Cr_line:140-300</th>\n",
       "      <th>months_since_credit_Cr_line:&gt;300</th>\n",
       "      <th>total_rev_hi_lim:4k-35k</th>\n",
       "      <th>total_rev_hi_lim:35k-56k</th>\n",
       "      <th>total_rev_hi_lim:56k-80k</th>\n",
       "      <th>total_rev_hi_lim:&gt;80k</th>\n",
       "      <th>Intercept</th>\n",
       "    </tr>\n",
       "    <tr>\n",
       "      <th>Unnamed: 0</th>\n",
       "      <th></th>\n",
       "      <th></th>\n",
       "      <th></th>\n",
       "      <th></th>\n",
       "      <th></th>\n",
       "      <th></th>\n",
       "      <th></th>\n",
       "      <th></th>\n",
       "      <th></th>\n",
       "      <th></th>\n",
       "      <th></th>\n",
       "      <th></th>\n",
       "      <th></th>\n",
       "      <th></th>\n",
       "      <th></th>\n",
       "      <th></th>\n",
       "      <th></th>\n",
       "      <th></th>\n",
       "      <th></th>\n",
       "      <th></th>\n",
       "      <th></th>\n",
       "    </tr>\n",
       "  </thead>\n",
       "  <tbody>\n",
       "    <tr>\n",
       "      <th>427211</th>\n",
       "      <td>1</td>\n",
       "      <td>0</td>\n",
       "      <td>0</td>\n",
       "      <td>0</td>\n",
       "      <td>0</td>\n",
       "      <td>0</td>\n",
       "      <td>0</td>\n",
       "      <td>1</td>\n",
       "      <td>0</td>\n",
       "      <td>0</td>\n",
       "      <td>...</td>\n",
       "      <td>1</td>\n",
       "      <td>0</td>\n",
       "      <td>0</td>\n",
       "      <td>0</td>\n",
       "      <td>1</td>\n",
       "      <td>0</td>\n",
       "      <td>0</td>\n",
       "      <td>1</td>\n",
       "      <td>0</td>\n",
       "      <td>NaN</td>\n",
       "    </tr>\n",
       "    <tr>\n",
       "      <th>206088</th>\n",
       "      <td>0</td>\n",
       "      <td>0</td>\n",
       "      <td>1</td>\n",
       "      <td>0</td>\n",
       "      <td>0</td>\n",
       "      <td>0</td>\n",
       "      <td>0</td>\n",
       "      <td>1</td>\n",
       "      <td>0</td>\n",
       "      <td>1</td>\n",
       "      <td>...</td>\n",
       "      <td>1</td>\n",
       "      <td>0</td>\n",
       "      <td>0</td>\n",
       "      <td>1</td>\n",
       "      <td>0</td>\n",
       "      <td>1</td>\n",
       "      <td>0</td>\n",
       "      <td>0</td>\n",
       "      <td>0</td>\n",
       "      <td>NaN</td>\n",
       "    </tr>\n",
       "    <tr>\n",
       "      <th>136020</th>\n",
       "      <td>1</td>\n",
       "      <td>0</td>\n",
       "      <td>0</td>\n",
       "      <td>0</td>\n",
       "      <td>0</td>\n",
       "      <td>0</td>\n",
       "      <td>0</td>\n",
       "      <td>1</td>\n",
       "      <td>0</td>\n",
       "      <td>0</td>\n",
       "      <td>...</td>\n",
       "      <td>0</td>\n",
       "      <td>0</td>\n",
       "      <td>0</td>\n",
       "      <td>0</td>\n",
       "      <td>1</td>\n",
       "      <td>1</td>\n",
       "      <td>0</td>\n",
       "      <td>0</td>\n",
       "      <td>0</td>\n",
       "      <td>NaN</td>\n",
       "    </tr>\n",
       "    <tr>\n",
       "      <th>412305</th>\n",
       "      <td>0</td>\n",
       "      <td>0</td>\n",
       "      <td>0</td>\n",
       "      <td>1</td>\n",
       "      <td>0</td>\n",
       "      <td>0</td>\n",
       "      <td>0</td>\n",
       "      <td>0</td>\n",
       "      <td>0</td>\n",
       "      <td>0</td>\n",
       "      <td>...</td>\n",
       "      <td>0</td>\n",
       "      <td>0</td>\n",
       "      <td>0</td>\n",
       "      <td>1</td>\n",
       "      <td>0</td>\n",
       "      <td>1</td>\n",
       "      <td>0</td>\n",
       "      <td>0</td>\n",
       "      <td>0</td>\n",
       "      <td>NaN</td>\n",
       "    </tr>\n",
       "    <tr>\n",
       "      <th>36159</th>\n",
       "      <td>0</td>\n",
       "      <td>0</td>\n",
       "      <td>1</td>\n",
       "      <td>0</td>\n",
       "      <td>0</td>\n",
       "      <td>0</td>\n",
       "      <td>0</td>\n",
       "      <td>1</td>\n",
       "      <td>0</td>\n",
       "      <td>0</td>\n",
       "      <td>...</td>\n",
       "      <td>1</td>\n",
       "      <td>0</td>\n",
       "      <td>0</td>\n",
       "      <td>1</td>\n",
       "      <td>0</td>\n",
       "      <td>1</td>\n",
       "      <td>0</td>\n",
       "      <td>0</td>\n",
       "      <td>0</td>\n",
       "      <td>NaN</td>\n",
       "    </tr>\n",
       "  </tbody>\n",
       "</table>\n",
       "<p>5 rows × 100 columns</p>\n",
       "</div>"
      ],
      "text/plain": [
       "            grade:A  grade:B  grade:C  grade:D  grade:E  grade:F  \\\n",
       "Unnamed: 0                                                         \n",
       "427211            1        0        0        0        0        0   \n",
       "206088            0        0        1        0        0        0   \n",
       "136020            1        0        0        0        0        0   \n",
       "412305            0        0        0        1        0        0   \n",
       "36159             0        0        1        0        0        0   \n",
       "\n",
       "            home_ownership:OWN  home_ownership:MORTGAGE  addr_state:NM_VA  \\\n",
       "Unnamed: 0                                                                  \n",
       "427211                       0                        1                 0   \n",
       "206088                       0                        1                 0   \n",
       "136020                       0                        1                 0   \n",
       "412305                       0                        0                 0   \n",
       "36159                        0                        1                 0   \n",
       "\n",
       "            addr_state:UT_KY_AZ_NJ  ...  total_acc:27-54  total_acc:>55  \\\n",
       "Unnamed: 0                          ...                                   \n",
       "427211                           0  ...                1              0   \n",
       "206088                           1  ...                1              0   \n",
       "136020                           0  ...                0              0   \n",
       "412305                           0  ...                0              0   \n",
       "36159                            0  ...                1              0   \n",
       "\n",
       "            acc_now_delinq:>=1  months_since_credit_Cr_line:140-300  \\\n",
       "Unnamed: 0                                                            \n",
       "427211                       0                                    0   \n",
       "206088                       0                                    1   \n",
       "136020                       0                                    0   \n",
       "412305                       0                                    1   \n",
       "36159                        0                                    1   \n",
       "\n",
       "            months_since_credit_Cr_line:>300  total_rev_hi_lim:4k-35k  \\\n",
       "Unnamed: 0                                                              \n",
       "427211                                     1                        0   \n",
       "206088                                     0                        1   \n",
       "136020                                     1                        1   \n",
       "412305                                     0                        1   \n",
       "36159                                      0                        1   \n",
       "\n",
       "            total_rev_hi_lim:35k-56k  total_rev_hi_lim:56k-80k  \\\n",
       "Unnamed: 0                                                       \n",
       "427211                             0                         1   \n",
       "206088                             0                         0   \n",
       "136020                             0                         0   \n",
       "412305                             0                         0   \n",
       "36159                              0                         0   \n",
       "\n",
       "            total_rev_hi_lim:>80k  Intercept  \n",
       "Unnamed: 0                                    \n",
       "427211                          0        NaN  \n",
       "206088                          0        NaN  \n",
       "136020                          0        NaN  \n",
       "412305                          0        NaN  \n",
       "36159                           0        NaN  \n",
       "\n",
       "[5 rows x 100 columns]"
      ]
     },
     "execution_count": 160,
     "metadata": {},
     "output_type": "execute_result"
    }
   ],
   "source": [
    "final_set.head()"
   ]
  },
  {
   "cell_type": "code",
   "execution_count": 156,
   "metadata": {},
   "outputs": [],
   "source": [
    "x_train=x_train.set_index('Unnamed: 0')\n",
    "x_test=x_test.set_index('Unnamed: 0')"
   ]
  },
  {
   "cell_type": "code",
   "execution_count": 157,
   "metadata": {},
   "outputs": [],
   "source": [
    "final_set=pd.concat([x_train,x_test],axis=0)"
   ]
  },
  {
   "cell_type": "code",
   "execution_count": 158,
   "metadata": {},
   "outputs": [
    {
     "data": {
      "text/plain": [
       "(466285, 100)"
      ]
     },
     "execution_count": 158,
     "metadata": {},
     "output_type": "execute_result"
    }
   ],
   "source": [
    "final_set.shape"
   ]
  },
  {
   "cell_type": "code",
   "execution_count": 159,
   "metadata": {},
   "outputs": [],
   "source": [
    "pd_reg=pickle.load(open('pd_reg.sav','rb'))"
   ]
  },
  {
   "cell_type": "code",
   "execution_count": 161,
   "metadata": {},
   "outputs": [],
   "source": [
    "final_set=final_set.drop(['Unnamed: 0','Intercept'],axis=1)"
   ]
  },
  {
   "cell_type": "code",
   "execution_count": 162,
   "metadata": {},
   "outputs": [
    {
     "data": {
      "text/plain": [
       "array([0.97283438, 0.90147733, 0.96461121, ..., 0.97461167, 0.95971959,\n",
       "       0.95233288])"
      ]
     },
     "execution_count": 162,
     "metadata": {},
     "output_type": "execute_result"
    }
   ],
   "source": [
    "pd_reg.predict_proba(final_set)[:][:,1]"
   ]
  },
  {
   "cell_type": "code",
   "execution_count": 163,
   "metadata": {},
   "outputs": [],
   "source": [
    "final_set['PD']=pd_reg.predict_proba(final_set)[:][:,1]"
   ]
  },
  {
   "cell_type": "code",
   "execution_count": 164,
   "metadata": {},
   "outputs": [
    {
     "data": {
      "text/plain": [
       "count    466285.000000\n",
       "mean          0.890685\n",
       "std           0.070716\n",
       "min           0.348930\n",
       "25%           0.853483\n",
       "50%           0.906370\n",
       "75%           0.943705\n",
       "max           0.993522\n",
       "Name: PD, dtype: float64"
      ]
     },
     "execution_count": 164,
     "metadata": {},
     "output_type": "execute_result"
    }
   ],
   "source": [
    "final_set['PD'].describe()"
   ]
  },
  {
   "cell_type": "code",
   "execution_count": 165,
   "metadata": {},
   "outputs": [
    {
     "data": {
      "text/plain": [
       "Unnamed: 0\n",
       "427211    0.972834\n",
       "206088    0.901477\n",
       "136020    0.964611\n",
       "412305    0.804588\n",
       "36159     0.835456\n",
       "Name: PD, dtype: float64"
      ]
     },
     "execution_count": 165,
     "metadata": {},
     "output_type": "execute_result"
    }
   ],
   "source": [
    "final_set['PD'].head()"
   ]
  },
  {
   "cell_type": "markdown",
   "metadata": {},
   "source": [
    "# Combining DataFrames"
   ]
  },
  {
   "cell_type": "code",
   "execution_count": 166,
   "metadata": {},
   "outputs": [
    {
     "data": {
      "text/plain": [
       "0    0.913958\n",
       "1    0.915553\n",
       "2    0.919489\n",
       "3    0.904916\n",
       "4    0.911430\n",
       "Name: LGD, dtype: float64"
      ]
     },
     "execution_count": 166,
     "metadata": {},
     "output_type": "execute_result"
    }
   ],
   "source": [
    "loan_data_default['LGD'].head()"
   ]
  },
  {
   "cell_type": "code",
   "execution_count": 167,
   "metadata": {},
   "outputs": [
    {
     "data": {
      "text/plain": [
       "Unnamed: 0\n",
       "427211    0.972834\n",
       "206088    0.901477\n",
       "136020    0.964611\n",
       "412305    0.804588\n",
       "36159     0.835456\n",
       "Name: PD, dtype: float64"
      ]
     },
     "execution_count": 167,
     "metadata": {},
     "output_type": "execute_result"
    }
   ],
   "source": [
    "final_set['PD'].head()"
   ]
  },
  {
   "cell_type": "code",
   "execution_count": 168,
   "metadata": {},
   "outputs": [
    {
     "data": {
      "text/plain": [
       "0    2952.502664\n",
       "1    1944.867422\n",
       "2    1580.001275\n",
       "3    6606.403694\n",
       "4    2124.360153\n",
       "Name: EAD, dtype: float64"
      ]
     },
     "execution_count": 168,
     "metadata": {},
     "output_type": "execute_result"
    }
   ],
   "source": [
    "loan_data_default['EAD'].head()"
   ]
  },
  {
   "cell_type": "code",
   "execution_count": 170,
   "metadata": {},
   "outputs": [],
   "source": [
    "loan_data_combined=pd.concat([loan_data_default['LGD'],loan_data_default['EAD'],final_set['PD']],axis=1)"
   ]
  },
  {
   "cell_type": "code",
   "execution_count": 171,
   "metadata": {},
   "outputs": [
    {
     "data": {
      "text/plain": [
       "(466285, 3)"
      ]
     },
     "execution_count": 171,
     "metadata": {},
     "output_type": "execute_result"
    }
   ],
   "source": [
    "loan_data_combined.shape"
   ]
  },
  {
   "cell_type": "code",
   "execution_count": 172,
   "metadata": {},
   "outputs": [
    {
     "data": {
      "text/html": [
       "<div>\n",
       "<style scoped>\n",
       "    .dataframe tbody tr th:only-of-type {\n",
       "        vertical-align: middle;\n",
       "    }\n",
       "\n",
       "    .dataframe tbody tr th {\n",
       "        vertical-align: top;\n",
       "    }\n",
       "\n",
       "    .dataframe thead th {\n",
       "        text-align: right;\n",
       "    }\n",
       "</style>\n",
       "<table border=\"1\" class=\"dataframe\">\n",
       "  <thead>\n",
       "    <tr style=\"text-align: right;\">\n",
       "      <th></th>\n",
       "      <th>LGD</th>\n",
       "      <th>EAD</th>\n",
       "      <th>PD</th>\n",
       "    </tr>\n",
       "  </thead>\n",
       "  <tbody>\n",
       "    <tr>\n",
       "      <th>0</th>\n",
       "      <td>0.913958</td>\n",
       "      <td>2952.502664</td>\n",
       "      <td>0.843747</td>\n",
       "    </tr>\n",
       "    <tr>\n",
       "      <th>1</th>\n",
       "      <td>0.915553</td>\n",
       "      <td>1944.867422</td>\n",
       "      <td>0.688957</td>\n",
       "    </tr>\n",
       "    <tr>\n",
       "      <th>2</th>\n",
       "      <td>0.919489</td>\n",
       "      <td>1580.001275</td>\n",
       "      <td>0.793156</td>\n",
       "    </tr>\n",
       "    <tr>\n",
       "      <th>3</th>\n",
       "      <td>0.904916</td>\n",
       "      <td>6606.403694</td>\n",
       "      <td>0.795975</td>\n",
       "    </tr>\n",
       "    <tr>\n",
       "      <th>4</th>\n",
       "      <td>0.911430</td>\n",
       "      <td>2124.360153</td>\n",
       "      <td>0.860539</td>\n",
       "    </tr>\n",
       "  </tbody>\n",
       "</table>\n",
       "</div>"
      ],
      "text/plain": [
       "        LGD          EAD        PD\n",
       "0  0.913958  2952.502664  0.843747\n",
       "1  0.915553  1944.867422  0.688957\n",
       "2  0.919489  1580.001275  0.793156\n",
       "3  0.904916  6606.403694  0.795975\n",
       "4  0.911430  2124.360153  0.860539"
      ]
     },
     "execution_count": 172,
     "metadata": {},
     "output_type": "execute_result"
    }
   ],
   "source": [
    "loan_data_combined.head()"
   ]
  },
  {
   "cell_type": "code",
   "execution_count": 173,
   "metadata": {},
   "outputs": [],
   "source": [
    "loan_data_combined['EL']=loan_data_combined['PD']*loan_data_combined['LGD']*loan_data_combined['EAD']"
   ]
  },
  {
   "cell_type": "code",
   "execution_count": 174,
   "metadata": {},
   "outputs": [
    {
     "data": {
      "text/html": [
       "<div>\n",
       "<style scoped>\n",
       "    .dataframe tbody tr th:only-of-type {\n",
       "        vertical-align: middle;\n",
       "    }\n",
       "\n",
       "    .dataframe tbody tr th {\n",
       "        vertical-align: top;\n",
       "    }\n",
       "\n",
       "    .dataframe thead th {\n",
       "        text-align: right;\n",
       "    }\n",
       "</style>\n",
       "<table border=\"1\" class=\"dataframe\">\n",
       "  <thead>\n",
       "    <tr style=\"text-align: right;\">\n",
       "      <th></th>\n",
       "      <th>LGD</th>\n",
       "      <th>EAD</th>\n",
       "      <th>PD</th>\n",
       "      <th>EL</th>\n",
       "    </tr>\n",
       "  </thead>\n",
       "  <tbody>\n",
       "    <tr>\n",
       "      <th>0</th>\n",
       "      <td>0.913958</td>\n",
       "      <td>2952.502664</td>\n",
       "      <td>0.843747</td>\n",
       "      <td>2276.821743</td>\n",
       "    </tr>\n",
       "    <tr>\n",
       "      <th>1</th>\n",
       "      <td>0.915553</td>\n",
       "      <td>1944.867422</td>\n",
       "      <td>0.688957</td>\n",
       "      <td>1226.777005</td>\n",
       "    </tr>\n",
       "    <tr>\n",
       "      <th>2</th>\n",
       "      <td>0.919489</td>\n",
       "      <td>1580.001275</td>\n",
       "      <td>0.793156</td>\n",
       "      <td>1152.292874</td>\n",
       "    </tr>\n",
       "    <tr>\n",
       "      <th>3</th>\n",
       "      <td>0.904916</td>\n",
       "      <td>6606.403694</td>\n",
       "      <td>0.795975</td>\n",
       "      <td>4758.531463</td>\n",
       "    </tr>\n",
       "    <tr>\n",
       "      <th>4</th>\n",
       "      <td>0.911430</td>\n",
       "      <td>2124.360153</td>\n",
       "      <td>0.860539</td>\n",
       "      <td>1666.180511</td>\n",
       "    </tr>\n",
       "  </tbody>\n",
       "</table>\n",
       "</div>"
      ],
      "text/plain": [
       "        LGD          EAD        PD           EL\n",
       "0  0.913958  2952.502664  0.843747  2276.821743\n",
       "1  0.915553  1944.867422  0.688957  1226.777005\n",
       "2  0.919489  1580.001275  0.793156  1152.292874\n",
       "3  0.904916  6606.403694  0.795975  4758.531463\n",
       "4  0.911430  2124.360153  0.860539  1666.180511"
      ]
     },
     "execution_count": 174,
     "metadata": {},
     "output_type": "execute_result"
    }
   ],
   "source": [
    "loan_data_combined.head()"
   ]
  },
  {
   "cell_type": "markdown",
   "metadata": {},
   "source": [
    " # Epected loss from the Individual Protfolio is "
   ]
  },
  {
   "cell_type": "code",
   "execution_count": 175,
   "metadata": {},
   "outputs": [
    {
     "data": {
      "text/plain": [
       "4136088861.5519786"
      ]
     },
     "execution_count": 175,
     "metadata": {},
     "output_type": "execute_result"
    }
   ],
   "source": [
    "loan_data_combined['EL'].sum()"
   ]
  }
 ],
 "metadata": {
  "kernelspec": {
   "display_name": "Python 3",
   "language": "python",
   "name": "python3"
  },
  "language_info": {
   "codemirror_mode": {
    "name": "ipython",
    "version": 3
   },
   "file_extension": ".py",
   "mimetype": "text/x-python",
   "name": "python",
   "nbconvert_exporter": "python",
   "pygments_lexer": "ipython3",
   "version": "3.7.7"
  }
 },
 "nbformat": 4,
 "nbformat_minor": 4
}
